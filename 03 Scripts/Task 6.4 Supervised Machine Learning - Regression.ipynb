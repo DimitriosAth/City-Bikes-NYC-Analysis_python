{
 "cells": [
  {
   "cell_type": "code",
   "execution_count": 1,
   "id": "09e2463f",
   "metadata": {},
   "outputs": [],
   "source": [
    "# Import libraries\n",
    "\n",
    "import pandas as pd\n",
    "import numpy as np\n",
    "import seaborn as sns\n",
    "import matplotlib\n",
    "import matplotlib.pyplot as plt\n",
    "import os\n",
    "import sklearn\n",
    "from sklearn.model_selection import train_test_split \n",
    "from sklearn.linear_model import LinearRegression\n",
    "from sklearn.metrics import mean_squared_error, r2_score"
   ]
  },
  {
   "cell_type": "code",
   "execution_count": 2,
   "id": "bc936074",
   "metadata": {},
   "outputs": [],
   "source": [
    "# This command propts matplotlib visuals to appear in the notebook \n",
    "\n",
    "%matplotlib inline"
   ]
  },
  {
   "cell_type": "code",
   "execution_count": 3,
   "id": "68efae1f",
   "metadata": {},
   "outputs": [],
   "source": [
    "path=r'/Users/Dimitris/Desktop/CF Data Analytics/Data Immersion/Achievement 6/02 Data'"
   ]
  },
  {
   "cell_type": "code",
   "execution_count": 4,
   "id": "bb98ceb6",
   "metadata": {},
   "outputs": [],
   "source": [
    "# Import the “df_sub.pkl” file into Jupyter as df_sub\n",
    "\n",
    "df_sub = pd.read_pickle(os.path.join(path, 'Prepared Data', 'df_sub.pkl'))"
   ]
  },
  {
   "cell_type": "code",
   "execution_count": 5,
   "id": "282f94e7",
   "metadata": {},
   "outputs": [
    {
     "data": {
      "text/plain": [
       "Index(['trip_duration', 'start_time', 'stop_time', 'start_station_id',\n",
       "       'start_station_name', 'start_station_latitude',\n",
       "       'start_station_longitude', 'end_station_id', 'end_station_name',\n",
       "       'end_station_latitude', 'end_station_longitude', 'bike_id', 'user_type',\n",
       "       'birth_year', 'gender', 'age', 'age_group_loc',\n",
       "       'trip_duration_range_loc', 'station_users', 'day_of_week',\n",
       "       'hour_of_day'],\n",
       "      dtype='object')"
      ]
     },
     "execution_count": 5,
     "metadata": {},
     "output_type": "execute_result"
    }
   ],
   "source": [
    "df_sub.columns"
   ]
  },
  {
   "cell_type": "markdown",
   "id": "2ae1dfbe",
   "metadata": {},
   "source": [
    "## Step 3. Clean your data so that it’s ready for analysis."
   ]
  },
  {
   "cell_type": "code",
   "execution_count": 7,
   "id": "c14d7a77",
   "metadata": {},
   "outputs": [
    {
     "data": {
      "text/plain": [
       "trip_duration                   0\n",
       "start_time                      0\n",
       "stop_time                       0\n",
       "start_station_id              676\n",
       "start_station_name              0\n",
       "start_station_latitude          0\n",
       "start_station_longitude         0\n",
       "end_station_id                676\n",
       "end_station_name                0\n",
       "end_station_latitude            0\n",
       "end_station_longitude           0\n",
       "bike_id                         0\n",
       "user_type                       0\n",
       "birth_year                 402411\n",
       "gender                          0\n",
       "age                        402411\n",
       "age_group_loc              402411\n",
       "trip_duration_range_loc         0\n",
       "station_users                 676\n",
       "day_of_week                     0\n",
       "hour_of_day                     0\n",
       "dtype: int64"
      ]
     },
     "execution_count": 7,
     "metadata": {},
     "output_type": "execute_result"
    }
   ],
   "source": [
    "# Check for missing values\n",
    "\n",
    "df_sub.isnull().sum()"
   ]
  },
  {
   "cell_type": "code",
   "execution_count": 16,
   "id": "3cea4ccf",
   "metadata": {},
   "outputs": [
    {
     "data": {
      "text/plain": [
       "Wed.      1978555\n",
       "Tues.     1918836\n",
       "Thurs.    1907495\n",
       "Fri.      1871204\n",
       "Mon.      1807954\n",
       "Sat.      1622931\n",
       "Sun.      1463204\n",
       "Name: day_of_week, dtype: int64"
      ]
     },
     "execution_count": 16,
     "metadata": {},
     "output_type": "execute_result"
    }
   ],
   "source": [
    "df_sub['day_of_week']. value_counts(dropna = False)"
   ]
  },
  {
   "cell_type": "code",
   "execution_count": 8,
   "id": "1a9fcba2",
   "metadata": {},
   "outputs": [
    {
     "name": "stderr",
     "output_type": "stream",
     "text": [
      "/Users/Dimitris/opt/anaconda3/lib/python3.9/site-packages/seaborn/distributions.py:2619: FutureWarning: `distplot` is a deprecated function and will be removed in a future version. Please adapt your code to use either `displot` (a figure-level function with similar flexibility) or `histplot` (an axes-level function for histograms).\n",
      "  warnings.warn(msg, FutureWarning)\n"
     ]
    },
    {
     "data": {
      "text/plain": [
       "<AxesSubplot:xlabel='trip_duration', ylabel='Density'>"
      ]
     },
     "execution_count": 8,
     "metadata": {},
     "output_type": "execute_result"
    },
    {
     "data": {
      "image/png": "[encoded data removed]",
      "text/plain": [
       "<Figure size 432x288 with 1 Axes>"
      ]
     },
     "metadata": {
      "needs_background": "light"
     },
     "output_type": "display_data"
    }
   ],
   "source": [
    "# Show extreme values\n",
    "\n",
    "sns.distplot(df_sub['trip_duration'], bins=30)"
   ]
  },
  {
   "cell_type": "code",
   "execution_count": 9,
   "id": "0ea56ed2",
   "metadata": {},
   "outputs": [
    {
     "data": {
      "text/plain": [
       "16.05046930517076"
      ]
     },
     "execution_count": 9,
     "metadata": {},
     "output_type": "execute_result"
    }
   ],
   "source": [
    "# Check the mean\n",
    "\n",
    "df_sub['trip_duration'].mean()"
   ]
  },
  {
   "cell_type": "code",
   "execution_count": 10,
   "id": "24b9046a",
   "metadata": {},
   "outputs": [
    {
     "data": {
      "text/plain": [
       "10.166666666666666"
      ]
     },
     "execution_count": 10,
     "metadata": {},
     "output_type": "execute_result"
    }
   ],
   "source": [
    "# Check the median\n",
    "\n",
    "df_sub['trip_duration'].median()"
   ]
  },
  {
   "cell_type": "code",
   "execution_count": 11,
   "id": "aac626bf",
   "metadata": {},
   "outputs": [
    {
     "data": {
      "text/plain": [
       "155671.01666666666"
      ]
     },
     "execution_count": 11,
     "metadata": {},
     "output_type": "execute_result"
    }
   ],
   "source": [
    "# Check the max\n",
    "\n",
    "df_sub['trip_duration'].max()"
   ]
  },
  {
   "cell_type": "markdown",
   "id": "d6500853",
   "metadata": {},
   "source": [
    "## Step 4. Explore your data visually "
   ]
  },
  {
   "cell_type": "code",
   "execution_count": 17,
   "id": "aee6c987",
   "metadata": {},
   "outputs": [
    {
     "data": {
      "image/png": "[encoded data removed]",
      "text/plain": [
       "<Figure size 432x288 with 1 Axes>"
      ]
     },
     "metadata": {
      "needs_background": "light"
     },
     "output_type": "display_data"
    }
   ],
   "source": [
    "# Create a scatterplot using matplotlib for another look at how the chosen variables plot against each other.\n",
    "\n",
    "df_sub.plot(x = 'day_of_week', y='trip_duration',style='o')\n",
    "plt.title('Day of week vs Minutes travelled')  \n",
    "plt.xlabel('Day of week')  \n",
    "plt.ylabel('Minutes travelled')  \n",
    "plt.show()"
   ]
  },
  {
   "cell_type": "code",
   "execution_count": 14,
   "id": "9518ebe7",
   "metadata": {},
   "outputs": [
    {
     "data": {
      "image/png": "[encoded data removed]",
      "text/plain": [
       "<Figure size 432x288 with 1 Axes>"
      ]
     },
     "metadata": {
      "needs_background": "light"
     },
     "output_type": "display_data"
    }
   ],
   "source": [
    "# Create a scatterplot using matplotlib for another look at how the chosen variables plot against each other.\n",
    "\n",
    "df_sub.plot(x = 'hour_of_day', y='trip_duration',style='o')\n",
    "plt.title('Hour of day vs Minutes travelled')  \n",
    "plt.xlabel('Hour of day')  \n",
    "plt.ylabel('Minutes travelled')  \n",
    "plt.show()"
   ]
  },
  {
   "cell_type": "markdown",
   "id": "8012e815",
   "metadata": {},
   "source": [
    "## Hypothesis\n",
    "### People travel for longer periods of time between 08:00 - 19:00"
   ]
  },
  {
   "cell_type": "markdown",
   "id": "3d27c514",
   "metadata": {},
   "source": [
    "## Steps 6 & 7. Reshape the variables into NumPy arrays and split them into two sets"
   ]
  },
  {
   "cell_type": "code",
   "execution_count": 25,
   "id": "2e707866",
   "metadata": {},
   "outputs": [],
   "source": [
    "X = df_sub['hour_of_day'].values.reshape(-1,1)\n",
    "y = df_sub['trip_duration'].values.reshape(-1,1)"
   ]
  },
  {
   "cell_type": "code",
   "execution_count": 26,
   "id": "dd72a02d",
   "metadata": {},
   "outputs": [
    {
     "data": {
      "text/plain": [
       "array([[ 0],\n",
       "       [ 0],\n",
       "       [ 0],\n",
       "       ...,\n",
       "       [23],\n",
       "       [23],\n",
       "       [23]])"
      ]
     },
     "execution_count": 26,
     "metadata": {},
     "output_type": "execute_result"
    }
   ],
   "source": [
    "X"
   ]
  },
  {
   "cell_type": "code",
   "execution_count": 27,
   "id": "a60c827e",
   "metadata": {},
   "outputs": [
    {
     "data": {
      "text/plain": [
       "array([[  11.33333333],\n",
       "       [  10.35      ],\n",
       "       [   4.25      ],\n",
       "       ...,\n",
       "       [  22.63333333],\n",
       "       [  29.5       ],\n",
       "       [2034.98333333]])"
      ]
     },
     "execution_count": 27,
     "metadata": {},
     "output_type": "execute_result"
    }
   ],
   "source": [
    "y"
   ]
  },
  {
   "cell_type": "code",
   "execution_count": 28,
   "id": "1179ea69",
   "metadata": {},
   "outputs": [],
   "source": [
    "# Split data into a training set and a test set.\n",
    "\n",
    "X_train, X_test, y_train, y_test = train_test_split(X, y, test_size=0.3, random_state=0)"
   ]
  },
  {
   "cell_type": "markdown",
   "id": "acdc8e58",
   "metadata": {},
   "source": [
    "## Step 8. Run a linear regression on the data"
   ]
  },
  {
   "cell_type": "code",
   "execution_count": 29,
   "id": "ee324b30",
   "metadata": {},
   "outputs": [],
   "source": [
    "# Create a regression object.\n",
    "\n",
    "regression = LinearRegression()"
   ]
  },
  {
   "cell_type": "code",
   "execution_count": 30,
   "id": "43b8045d",
   "metadata": {},
   "outputs": [
    {
     "data": {
      "text/plain": [
       "LinearRegression()"
      ]
     },
     "execution_count": 30,
     "metadata": {},
     "output_type": "execute_result"
    }
   ],
   "source": [
    "# Fit the regression object onto the training set.\n",
    "\n",
    "regression.fit(X_train, y_train)"
   ]
  },
  {
   "cell_type": "code",
   "execution_count": 31,
   "id": "57675524",
   "metadata": {},
   "outputs": [],
   "source": [
    "# Predict the values of y using X.\n",
    "\n",
    "y_predicted = regression.predict(X_test)"
   ]
  },
  {
   "cell_type": "markdown",
   "id": "8d4c405d",
   "metadata": {},
   "source": [
    "## Step 9. Create a plot that shows the regression line on the test set"
   ]
  },
  {
   "cell_type": "code",
   "execution_count": 32,
   "id": "2aca1d12",
   "metadata": {},
   "outputs": [
    {
     "data": {
      "image/png": "[encoded data removed]",
      "text/plain": [
       "<Figure size 432x288 with 1 Axes>"
      ]
     },
     "metadata": {
      "needs_background": "light"
     },
     "output_type": "display_data"
    }
   ],
   "source": [
    "# Create a plot that shows the regression line from the model on the test set.\n",
    "\n",
    "plot_test = plt\n",
    "plot_test.scatter(X_test, y_test, color='gray', s = 15)\n",
    "plot_test.plot(X_test, y_predicted, color='red', linewidth =3)\n",
    "plot_test.title('Hour of Day vs Trip Duration (Test set)')\n",
    "plot_test.xlabel('Hour of Day')\n",
    "plot_test.ylabel('Trip Duration')\n",
    "plot_test.show()"
   ]
  },
  {
   "cell_type": "markdown",
   "id": "f99b512d",
   "metadata": {},
   "source": [
    "### The regression line appears to be horizontal and does not cover all my data points. There are many points that look like outliers and this could affect the results."
   ]
  },
  {
   "cell_type": "markdown",
   "id": "b8f2c784",
   "metadata": {},
   "source": [
    "## Step 11. Check the model performance statistics"
   ]
  },
  {
   "cell_type": "code",
   "execution_count": 33,
   "id": "32b0fbc0",
   "metadata": {},
   "outputs": [],
   "source": [
    "# Create objects that contain the model summary statistics.\n",
    "\n",
    "rmse = mean_squared_error(y_test, y_predicted)\n",
    "r2 = r2_score(y_test, y_predicted)"
   ]
  },
  {
   "cell_type": "code",
   "execution_count": 34,
   "id": "56ef2d48",
   "metadata": {},
   "outputs": [
    {
     "name": "stdout",
     "output_type": "stream",
     "text": [
      "Slope: [[0.20310947]]\n",
      "Mean squared error:  35936.88504652867\n",
      "R2 score:  2.9352920412506478e-05\n"
     ]
    }
   ],
   "source": [
    "# Print the model summary statistics.\n",
    "\n",
    "print('Slope:' ,regression.coef_)\n",
    "print('Mean squared error: ', rmse)\n",
    "print('R2 score: ', r2)"
   ]
  },
  {
   "cell_type": "code",
   "execution_count": null,
   "id": "94459bd2",
   "metadata": {},
   "outputs": [],
   "source": [
    "# The slope is positive slope which indicates a positive relationship (as X rises, so does y).\n",
    "# the MSE is quite large at 35936.885. From this, it’s safe to say that a regression may not be the best model\n",
    "# to represent this data and can’t accurately predict the influence of the each hour on the minutes travelled.\n",
    "# The R2 score of the model is 2.9352920412506478e-05. This is very low, which means that my model is not that great\n",
    "# of a fit."
   ]
  },
  {
   "cell_type": "code",
   "execution_count": 35,
   "id": "7f4e6458",
   "metadata": {},
   "outputs": [
    {
     "data": {
      "text/plain": [
       "array([[14.64303581],\n",
       "       [15.65858315],\n",
       "       [16.06480209],\n",
       "       ...,\n",
       "       [17.08034942],\n",
       "       [17.89278729],\n",
       "       [16.87723996]])"
      ]
     },
     "execution_count": 35,
     "metadata": {},
     "output_type": "execute_result"
    }
   ],
   "source": [
    "y_predicted"
   ]
  },
  {
   "cell_type": "markdown",
   "id": "23c772ec",
   "metadata": {},
   "source": [
    "## Step 12. Compare the predicted y values with the actual y values "
   ]
  },
  {
   "cell_type": "code",
   "execution_count": 36,
   "id": "96aa460c",
   "metadata": {},
   "outputs": [
    {
     "data": {
      "text/html": [
       "<div>\n",
       "<style scoped>\n",
       "    .dataframe tbody tr th:only-of-type {\n",
       "        vertical-align: middle;\n",
       "    }\n",
       "\n",
       "    .dataframe tbody tr th {\n",
       "        vertical-align: top;\n",
       "    }\n",
       "\n",
       "    .dataframe thead th {\n",
       "        text-align: right;\n",
       "    }\n",
       "</style>\n",
       "<table border=\"1\" class=\"dataframe\">\n",
       "  <thead>\n",
       "    <tr style=\"text-align: right;\">\n",
       "      <th></th>\n",
       "      <th>Actual</th>\n",
       "      <th>Predicted</th>\n",
       "    </tr>\n",
       "  </thead>\n",
       "  <tbody>\n",
       "    <tr>\n",
       "      <th>0</th>\n",
       "      <td>3.716667</td>\n",
       "      <td>14.643036</td>\n",
       "    </tr>\n",
       "    <tr>\n",
       "      <th>1</th>\n",
       "      <td>7.183333</td>\n",
       "      <td>15.658583</td>\n",
       "    </tr>\n",
       "    <tr>\n",
       "      <th>2</th>\n",
       "      <td>9.166667</td>\n",
       "      <td>16.064802</td>\n",
       "    </tr>\n",
       "    <tr>\n",
       "      <th>3</th>\n",
       "      <td>5.400000</td>\n",
       "      <td>17.283459</td>\n",
       "    </tr>\n",
       "    <tr>\n",
       "      <th>4</th>\n",
       "      <td>10.500000</td>\n",
       "      <td>15.861693</td>\n",
       "    </tr>\n",
       "    <tr>\n",
       "      <th>5</th>\n",
       "      <td>12.983333</td>\n",
       "      <td>14.846145</td>\n",
       "    </tr>\n",
       "    <tr>\n",
       "      <th>6</th>\n",
       "      <td>8.183333</td>\n",
       "      <td>15.252364</td>\n",
       "    </tr>\n",
       "    <tr>\n",
       "      <th>7</th>\n",
       "      <td>8.283333</td>\n",
       "      <td>15.658583</td>\n",
       "    </tr>\n",
       "    <tr>\n",
       "      <th>8</th>\n",
       "      <td>22.833333</td>\n",
       "      <td>15.861693</td>\n",
       "    </tr>\n",
       "    <tr>\n",
       "      <th>9</th>\n",
       "      <td>9.216667</td>\n",
       "      <td>17.080349</td>\n",
       "    </tr>\n",
       "    <tr>\n",
       "      <th>10</th>\n",
       "      <td>18.650000</td>\n",
       "      <td>16.674130</td>\n",
       "    </tr>\n",
       "    <tr>\n",
       "      <th>11</th>\n",
       "      <td>10.166667</td>\n",
       "      <td>17.486568</td>\n",
       "    </tr>\n",
       "    <tr>\n",
       "      <th>12</th>\n",
       "      <td>47.283333</td>\n",
       "      <td>15.252364</td>\n",
       "    </tr>\n",
       "    <tr>\n",
       "      <th>13</th>\n",
       "      <td>23.033333</td>\n",
       "      <td>16.674130</td>\n",
       "    </tr>\n",
       "    <tr>\n",
       "      <th>14</th>\n",
       "      <td>25.316667</td>\n",
       "      <td>16.674130</td>\n",
       "    </tr>\n",
       "    <tr>\n",
       "      <th>15</th>\n",
       "      <td>3.216667</td>\n",
       "      <td>15.252364</td>\n",
       "    </tr>\n",
       "    <tr>\n",
       "      <th>16</th>\n",
       "      <td>9.900000</td>\n",
       "      <td>16.471021</td>\n",
       "    </tr>\n",
       "    <tr>\n",
       "      <th>17</th>\n",
       "      <td>15.516667</td>\n",
       "      <td>16.674130</td>\n",
       "    </tr>\n",
       "    <tr>\n",
       "      <th>18</th>\n",
       "      <td>25.433333</td>\n",
       "      <td>14.846145</td>\n",
       "    </tr>\n",
       "    <tr>\n",
       "      <th>19</th>\n",
       "      <td>13.550000</td>\n",
       "      <td>16.674130</td>\n",
       "    </tr>\n",
       "    <tr>\n",
       "      <th>20</th>\n",
       "      <td>7.833333</td>\n",
       "      <td>16.674130</td>\n",
       "    </tr>\n",
       "    <tr>\n",
       "      <th>21</th>\n",
       "      <td>5.700000</td>\n",
       "      <td>16.064802</td>\n",
       "    </tr>\n",
       "    <tr>\n",
       "      <th>22</th>\n",
       "      <td>5.733333</td>\n",
       "      <td>15.861693</td>\n",
       "    </tr>\n",
       "    <tr>\n",
       "      <th>23</th>\n",
       "      <td>15.083333</td>\n",
       "      <td>15.658583</td>\n",
       "    </tr>\n",
       "    <tr>\n",
       "      <th>24</th>\n",
       "      <td>7.016667</td>\n",
       "      <td>15.252364</td>\n",
       "    </tr>\n",
       "    <tr>\n",
       "      <th>25</th>\n",
       "      <td>17.766667</td>\n",
       "      <td>15.861693</td>\n",
       "    </tr>\n",
       "    <tr>\n",
       "      <th>26</th>\n",
       "      <td>2.916667</td>\n",
       "      <td>16.267912</td>\n",
       "    </tr>\n",
       "    <tr>\n",
       "      <th>27</th>\n",
       "      <td>22.950000</td>\n",
       "      <td>15.658583</td>\n",
       "    </tr>\n",
       "    <tr>\n",
       "      <th>28</th>\n",
       "      <td>9.950000</td>\n",
       "      <td>15.861693</td>\n",
       "    </tr>\n",
       "    <tr>\n",
       "      <th>29</th>\n",
       "      <td>11.350000</td>\n",
       "      <td>15.861693</td>\n",
       "    </tr>\n",
       "  </tbody>\n",
       "</table>\n",
       "</div>"
      ],
      "text/plain": [
       "       Actual  Predicted\n",
       "0    3.716667  14.643036\n",
       "1    7.183333  15.658583\n",
       "2    9.166667  16.064802\n",
       "3    5.400000  17.283459\n",
       "4   10.500000  15.861693\n",
       "5   12.983333  14.846145\n",
       "6    8.183333  15.252364\n",
       "7    8.283333  15.658583\n",
       "8   22.833333  15.861693\n",
       "9    9.216667  17.080349\n",
       "10  18.650000  16.674130\n",
       "11  10.166667  17.486568\n",
       "12  47.283333  15.252364\n",
       "13  23.033333  16.674130\n",
       "14  25.316667  16.674130\n",
       "15   3.216667  15.252364\n",
       "16   9.900000  16.471021\n",
       "17  15.516667  16.674130\n",
       "18  25.433333  14.846145\n",
       "19  13.550000  16.674130\n",
       "20   7.833333  16.674130\n",
       "21   5.700000  16.064802\n",
       "22   5.733333  15.861693\n",
       "23  15.083333  15.658583\n",
       "24   7.016667  15.252364\n",
       "25  17.766667  15.861693\n",
       "26   2.916667  16.267912\n",
       "27  22.950000  15.658583\n",
       "28   9.950000  15.861693\n",
       "29  11.350000  15.861693"
      ]
     },
     "execution_count": 36,
     "metadata": {},
     "output_type": "execute_result"
    }
   ],
   "source": [
    "# Create a dataframe comparing the actual and predicted values of y.\n",
    "\n",
    "data = pd.DataFrame({'Actual': y_test.flatten(), 'Predicted': y_predicted.flatten()})\n",
    "data.head(30)"
   ]
  },
  {
   "cell_type": "markdown",
   "id": "fc8353f0",
   "metadata": {},
   "source": [
    "### There is a significant difference between the actual and predicted y values. This is more evidence my model is not doing good for explaining the relationship between the “Days of week” and “Trip duration” variables."
   ]
  },
  {
   "cell_type": "code",
   "execution_count": 37,
   "id": "49bffee2",
   "metadata": {},
   "outputs": [],
   "source": [
    "# Run model on my training data set\n",
    "\n",
    "y_predicted_train = regression.predict(X_train)"
   ]
  },
  {
   "cell_type": "code",
   "execution_count": 38,
   "id": "461ef9a0",
   "metadata": {},
   "outputs": [],
   "source": [
    "rmse = mean_squared_error(y_train, y_predicted_train)\n",
    "r2 = r2_score(y_train, y_predicted_train)"
   ]
  },
  {
   "cell_type": "code",
   "execution_count": 39,
   "id": "99b06b17",
   "metadata": {},
   "outputs": [
    {
     "name": "stdout",
     "output_type": "stream",
     "text": [
      "Slope: [[0.20310947]]\n",
      "Mean squared error:  39781.12977534681\n",
      "R2 score:  2.441613657910846e-05\n"
     ]
    }
   ],
   "source": [
    "print('Slope:' ,regression.coef_)\n",
    "print('Mean squared error: ', rmse)\n",
    "print('R2 score: ', r2)"
   ]
  },
  {
   "cell_type": "code",
   "execution_count": 40,
   "id": "bd8841dd",
   "metadata": {},
   "outputs": [
    {
     "data": {
      "image/png": "[encoded data removed]",
      "text/plain": [
       "<Figure size 432x288 with 1 Axes>"
      ]
     },
     "metadata": {
      "needs_background": "light"
     },
     "output_type": "display_data"
    }
   ],
   "source": [
    "# Visualizing the training set results.\n",
    "\n",
    "plot_test = plt\n",
    "plot_test.scatter(X_train, y_train, color='green', s = 15)\n",
    "plot_test.plot(X_train, y_predicted_train, color='red', linewidth =3)\n",
    "plot_test.title('Distance from metro vs Price per unit (Train set)')\n",
    "plot_test.xlabel('Distance from metro')\n",
    "plot_test.ylabel('Price per unit')\n",
    "plot_test.show()"
   ]
  },
  {
   "cell_type": "markdown",
   "id": "d7a2ce86",
   "metadata": {},
   "source": [
    "### The model does not appear to be overfitted.\n",
    "### I cannot think of any type of bias that could affect this model as there are no data on specific groups or PII."
   ]
  },
  {
   "cell_type": "code",
   "execution_count": null,
   "id": "7d19e269",
   "metadata": {},
   "outputs": [],
   "source": []
  },
  {
   "cell_type": "code",
   "execution_count": null,
   "id": "114987be",
   "metadata": {},
   "outputs": [],
   "source": []
  },
  {
   "cell_type": "code",
   "execution_count": null,
   "id": "3f9c1d00",
   "metadata": {},
   "outputs": [],
   "source": []
  },
  {
   "cell_type": "code",
   "execution_count": null,
   "id": "3b2d1451",
   "metadata": {},
   "outputs": [],
   "source": []
  },
  {
   "cell_type": "code",
   "execution_count": null,
   "id": "9a5fb502",
   "metadata": {},
   "outputs": [],
   "source": []
  }
 ],
 "metadata": {
  "kernelspec": {
   "display_name": "Python 3 (ipykernel)",
   "language": "python",
   "name": "python3"
  },
  "language_info": {
   "codemirror_mode": {
    "name": "ipython",
    "version": 3
   },
   "file_extension": ".py",
   "mimetype": "text/x-python",
   "name": "python",
   "nbconvert_exporter": "python",
   "pygments_lexer": "ipython3",
   "version": "3.9.12"
  }
 },
 "nbformat": 4,
 "nbformat_minor": 5
}
