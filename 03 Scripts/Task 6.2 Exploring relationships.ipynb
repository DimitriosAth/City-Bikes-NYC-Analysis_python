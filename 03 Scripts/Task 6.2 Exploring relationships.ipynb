{
 "cells": [
  {
   "cell_type": "markdown",
   "id": "04e8cb5f",
   "metadata": {},
   "source": [
    "## Step 1. Importing libraries and data sets"
   ]
  },
  {
   "cell_type": "code",
   "execution_count": 21,
   "id": "6238f32c",
   "metadata": {},
   "outputs": [],
   "source": [
    "# Import Libraries\n",
    "\n",
    "import pandas as pd\n",
    "import numpy as np\n",
    "import seaborn as sns\n",
    "import matplotlib.pyplot as plt\n",
    "import matplotlib\n",
    "import os\n",
    "import datetime\n",
    "from datetime import date\n",
    "import folium\n",
    "import json"
   ]
  },
  {
   "cell_type": "code",
   "execution_count": 2,
   "id": "06a803e4",
   "metadata": {},
   "outputs": [],
   "source": [
    "path=r'/Users/Dimitris/Desktop/CF Data Analytics/Data Immersion/Achievement 6/02 Data'"
   ]
  },
  {
   "cell_type": "code",
   "execution_count": 3,
   "id": "8bd7ebc5",
   "metadata": {},
   "outputs": [],
   "source": [
    "# Import the “df_1701_1912.pkl” file into Jupyter as df_1701_1912\n",
    "\n",
    "df_1701_1912 = pd.read_pickle(os.path.join(path, 'Prepared Data', 'df_1701_1912.pkl'))"
   ]
  },
  {
   "cell_type": "code",
   "execution_count": 4,
   "id": "0f10b540",
   "metadata": {},
   "outputs": [
    {
     "data": {
      "text/plain": [
       "(50838483, 15)"
      ]
     },
     "execution_count": 4,
     "metadata": {},
     "output_type": "execute_result"
    }
   ],
   "source": [
    "df_1701_1912.shape"
   ]
  },
  {
   "cell_type": "code",
   "execution_count": 5,
   "id": "75db641e",
   "metadata": {},
   "outputs": [
    {
     "data": {
      "text/plain": [
       "Index(['trip_duration', 'start_time', 'stop_time', 'start_station_id',\n",
       "       'start_station_name', 'start_station_latitude',\n",
       "       'start_station_longitude', 'end_station_id', 'end_station_name',\n",
       "       'end_station_latitude', 'end_station_longitude', 'bike_id', 'user_type',\n",
       "       'birth_year', 'gender'],\n",
       "      dtype='object')"
      ]
     },
     "execution_count": 5,
     "metadata": {},
     "output_type": "execute_result"
    }
   ],
   "source": [
    "df_1701_1912.columns"
   ]
  },
  {
   "cell_type": "code",
   "execution_count": 123,
   "id": "6b3301cd",
   "metadata": {
    "scrolled": true
   },
   "outputs": [
    {
     "data": {
      "text/plain": [
       "trip_duration                int64\n",
       "start_time                  object\n",
       "stop_time                   object\n",
       "start_station_id           float64\n",
       "start_station_name          object\n",
       "start_station_latitude     float64\n",
       "start_station_longitude    float64\n",
       "end_station_id             float64\n",
       "end_station_name            object\n",
       "end_station_latitude       float64\n",
       "end_station_longitude      float64\n",
       "bike_id                      int64\n",
       "user_type                   object\n",
       "birth_year                 float64\n",
       "gender                       int64\n",
       "dtype: object"
      ]
     },
     "execution_count": 123,
     "metadata": {},
     "output_type": "execute_result"
    }
   ],
   "source": [
    "df_1701_1912.dtypes"
   ]
  },
  {
   "cell_type": "code",
   "execution_count": 7,
   "id": "696a210b",
   "metadata": {},
   "outputs": [
    {
     "data": {
      "text/html": [
       "<div>\n",
       "<style scoped>\n",
       "    .dataframe tbody tr th:only-of-type {\n",
       "        vertical-align: middle;\n",
       "    }\n",
       "\n",
       "    .dataframe tbody tr th {\n",
       "        vertical-align: top;\n",
       "    }\n",
       "\n",
       "    .dataframe thead th {\n",
       "        text-align: right;\n",
       "    }\n",
       "</style>\n",
       "<table border=\"1\" class=\"dataframe\">\n",
       "  <thead>\n",
       "    <tr style=\"text-align: right;\">\n",
       "      <th></th>\n",
       "      <th>trip_duration</th>\n",
       "      <th>start_time</th>\n",
       "      <th>stop_time</th>\n",
       "      <th>start_station_id</th>\n",
       "      <th>start_station_name</th>\n",
       "      <th>start_station_latitude</th>\n",
       "      <th>start_station_longitude</th>\n",
       "      <th>end_station_id</th>\n",
       "      <th>end_station_name</th>\n",
       "      <th>end_station_latitude</th>\n",
       "      <th>end_station_longitude</th>\n",
       "      <th>bike_id</th>\n",
       "      <th>user_type</th>\n",
       "      <th>birth_year</th>\n",
       "      <th>gender</th>\n",
       "    </tr>\n",
       "  </thead>\n",
       "  <tbody>\n",
       "    <tr>\n",
       "      <th>0</th>\n",
       "      <td>680</td>\n",
       "      <td>2017-01-01 00:00:21</td>\n",
       "      <td>2017-01-01 00:11:41</td>\n",
       "      <td>3226.0</td>\n",
       "      <td>W 82 St &amp; Central Park West</td>\n",
       "      <td>40.782750</td>\n",
       "      <td>-73.971370</td>\n",
       "      <td>3165.0</td>\n",
       "      <td>Central Park West &amp; W 72 St</td>\n",
       "      <td>40.775794</td>\n",
       "      <td>-73.976206</td>\n",
       "      <td>25542</td>\n",
       "      <td>Subscriber</td>\n",
       "      <td>1965.0</td>\n",
       "      <td>2</td>\n",
       "    </tr>\n",
       "    <tr>\n",
       "      <th>1</th>\n",
       "      <td>1282</td>\n",
       "      <td>2017-01-01 00:00:45</td>\n",
       "      <td>2017-01-01 00:22:08</td>\n",
       "      <td>3263.0</td>\n",
       "      <td>Cooper Square &amp; E 7 St</td>\n",
       "      <td>40.729236</td>\n",
       "      <td>-73.990868</td>\n",
       "      <td>498.0</td>\n",
       "      <td>Broadway &amp; W 32 St</td>\n",
       "      <td>40.748549</td>\n",
       "      <td>-73.988084</td>\n",
       "      <td>21136</td>\n",
       "      <td>Subscriber</td>\n",
       "      <td>1987.0</td>\n",
       "      <td>2</td>\n",
       "    </tr>\n",
       "    <tr>\n",
       "      <th>2</th>\n",
       "      <td>648</td>\n",
       "      <td>2017-01-01 00:00:57</td>\n",
       "      <td>2017-01-01 00:11:46</td>\n",
       "      <td>3143.0</td>\n",
       "      <td>5 Ave &amp; E 78 St</td>\n",
       "      <td>40.776829</td>\n",
       "      <td>-73.963888</td>\n",
       "      <td>3152.0</td>\n",
       "      <td>3 Ave &amp; E 71 St</td>\n",
       "      <td>40.768737</td>\n",
       "      <td>-73.961199</td>\n",
       "      <td>18147</td>\n",
       "      <td>Customer</td>\n",
       "      <td>NaN</td>\n",
       "      <td>0</td>\n",
       "    </tr>\n",
       "    <tr>\n",
       "      <th>3</th>\n",
       "      <td>631</td>\n",
       "      <td>2017-01-01 00:01:10</td>\n",
       "      <td>2017-01-01 00:11:42</td>\n",
       "      <td>3143.0</td>\n",
       "      <td>5 Ave &amp; E 78 St</td>\n",
       "      <td>40.776829</td>\n",
       "      <td>-73.963888</td>\n",
       "      <td>3152.0</td>\n",
       "      <td>3 Ave &amp; E 71 St</td>\n",
       "      <td>40.768737</td>\n",
       "      <td>-73.961199</td>\n",
       "      <td>21211</td>\n",
       "      <td>Customer</td>\n",
       "      <td>NaN</td>\n",
       "      <td>0</td>\n",
       "    </tr>\n",
       "    <tr>\n",
       "      <th>4</th>\n",
       "      <td>621</td>\n",
       "      <td>2017-01-01 00:01:25</td>\n",
       "      <td>2017-01-01 00:11:47</td>\n",
       "      <td>3143.0</td>\n",
       "      <td>5 Ave &amp; E 78 St</td>\n",
       "      <td>40.776829</td>\n",
       "      <td>-73.963888</td>\n",
       "      <td>3152.0</td>\n",
       "      <td>3 Ave &amp; E 71 St</td>\n",
       "      <td>40.768737</td>\n",
       "      <td>-73.961199</td>\n",
       "      <td>26819</td>\n",
       "      <td>Customer</td>\n",
       "      <td>NaN</td>\n",
       "      <td>0</td>\n",
       "    </tr>\n",
       "  </tbody>\n",
       "</table>\n",
       "</div>"
      ],
      "text/plain": [
       "   trip_duration           start_time            stop_time  start_station_id  \\\n",
       "0            680  2017-01-01 00:00:21  2017-01-01 00:11:41            3226.0   \n",
       "1           1282  2017-01-01 00:00:45  2017-01-01 00:22:08            3263.0   \n",
       "2            648  2017-01-01 00:00:57  2017-01-01 00:11:46            3143.0   \n",
       "3            631  2017-01-01 00:01:10  2017-01-01 00:11:42            3143.0   \n",
       "4            621  2017-01-01 00:01:25  2017-01-01 00:11:47            3143.0   \n",
       "\n",
       "            start_station_name  start_station_latitude  \\\n",
       "0  W 82 St & Central Park West               40.782750   \n",
       "1       Cooper Square & E 7 St               40.729236   \n",
       "2              5 Ave & E 78 St               40.776829   \n",
       "3              5 Ave & E 78 St               40.776829   \n",
       "4              5 Ave & E 78 St               40.776829   \n",
       "\n",
       "   start_station_longitude  end_station_id             end_station_name  \\\n",
       "0               -73.971370          3165.0  Central Park West & W 72 St   \n",
       "1               -73.990868           498.0           Broadway & W 32 St   \n",
       "2               -73.963888          3152.0              3 Ave & E 71 St   \n",
       "3               -73.963888          3152.0              3 Ave & E 71 St   \n",
       "4               -73.963888          3152.0              3 Ave & E 71 St   \n",
       "\n",
       "   end_station_latitude  end_station_longitude  bike_id   user_type  \\\n",
       "0             40.775794             -73.976206    25542  Subscriber   \n",
       "1             40.748549             -73.988084    21136  Subscriber   \n",
       "2             40.768737             -73.961199    18147    Customer   \n",
       "3             40.768737             -73.961199    21211    Customer   \n",
       "4             40.768737             -73.961199    26819    Customer   \n",
       "\n",
       "   birth_year  gender  \n",
       "0      1965.0       2  \n",
       "1      1987.0       2  \n",
       "2         NaN       0  \n",
       "3         NaN       0  \n",
       "4         NaN       0  "
      ]
     },
     "execution_count": 7,
     "metadata": {},
     "output_type": "execute_result"
    }
   ],
   "source": [
    "df_1701_1912.head()"
   ]
  },
  {
   "cell_type": "markdown",
   "id": "2fefadd1",
   "metadata": {},
   "source": [
    "### Further data wrangling"
   ]
  },
  {
   "cell_type": "code",
   "execution_count": 8,
   "id": "0c68158f",
   "metadata": {},
   "outputs": [
    {
     "data": {
      "text/plain": [
       "(12709621, 15)"
      ]
     },
     "execution_count": 8,
     "metadata": {},
     "output_type": "execute_result"
    }
   ],
   "source": [
    "# Create a sample of the dataframe - The current size is too large to work on my personal computer so I will create\n",
    "# sample 25% the size of the dataframe and work on that.\n",
    "\n",
    "rate = 4\n",
    "df_sub = df_1701_1912[::rate]\n",
    "df_sub.shape"
   ]
  },
  {
   "cell_type": "code",
   "execution_count": 9,
   "id": "85de28cb",
   "metadata": {},
   "outputs": [
    {
     "name": "stderr",
     "output_type": "stream",
     "text": [
      "/var/folders/yl/zzz5svg15j310t2d1vvq8zqh0000gn/T/ipykernel_68189/1769597753.py:3: SettingWithCopyWarning: \n",
      "A value is trying to be set on a copy of a slice from a DataFrame.\n",
      "Try using .loc[row_indexer,col_indexer] = value instead\n",
      "\n",
      "See the caveats in the documentation: https://pandas.pydata.org/pandas-docs/stable/user_guide/indexing.html#returning-a-view-versus-a-copy\n",
      "  df_sub[\"trip_duration\"] = df_sub[\"trip_duration\"]/60\n"
     ]
    }
   ],
   "source": [
    "# Change \"trip_duration\" column format from seconds to minutes\n",
    "\n",
    "df_sub[\"trip_duration\"] = df_sub[\"trip_duration\"]/60"
   ]
  },
  {
   "cell_type": "code",
   "execution_count": 113,
   "id": "36fa60af",
   "metadata": {},
   "outputs": [
    {
     "name": "stderr",
     "output_type": "stream",
     "text": [
      "/var/folders/yl/zzz5svg15j310t2d1vvq8zqh0000gn/T/ipykernel_68189/4256918687.py:3: SettingWithCopyWarning: \n",
      "A value is trying to be set on a copy of a slice from a DataFrame.\n",
      "Try using .loc[row_indexer,col_indexer] = value instead\n",
      "\n",
      "See the caveats in the documentation: https://pandas.pydata.org/pandas-docs/stable/user_guide/indexing.html#returning-a-view-versus-a-copy\n",
      "  df_sub['day_of_week'] = df_sub['start_time'].apply(lambda time: time.dayofweek)\n"
     ]
    }
   ],
   "source": [
    "# Add day of the week based on start_time column\n",
    "\n",
    "df_sub['day_of_week'] = df_sub['start_time'].apply(lambda time: time.dayofweek)"
   ]
  },
  {
   "cell_type": "code",
   "execution_count": 116,
   "id": "7984ddf2",
   "metadata": {},
   "outputs": [
    {
     "data": {
      "text/plain": [
       "2    1978555\n",
       "1    1918836\n",
       "3    1907495\n",
       "4    1871204\n",
       "0    1807954\n",
       "5    1622931\n",
       "6    1463204\n",
       "Name: day_of_week, dtype: int64"
      ]
     },
     "execution_count": 116,
     "metadata": {},
     "output_type": "execute_result"
    }
   ],
   "source": [
    "df_sub['day_of_week'].value_counts(dropna = False)"
   ]
  },
  {
   "cell_type": "code",
   "execution_count": 118,
   "id": "8c90c3be",
   "metadata": {},
   "outputs": [
    {
     "name": "stderr",
     "output_type": "stream",
     "text": [
      "/var/folders/yl/zzz5svg15j310t2d1vvq8zqh0000gn/T/ipykernel_68189/823941161.py:1: SettingWithCopyWarning: \n",
      "A value is trying to be set on a copy of a slice from a DataFrame.\n",
      "Try using .loc[row_indexer,col_indexer] = value instead\n",
      "\n",
      "See the caveats in the documentation: https://pandas.pydata.org/pandas-docs/stable/user_guide/indexing.html#returning-a-view-versus-a-copy\n",
      "  df_sub['day_of_week'] = df_sub['day_of_week'].map({0: 'Mon.',1: 'Tues.',2: 'Wed.',3: 'Thurs.',4: 'Fri.', 5: 'Sat.', 6: 'Sun.'})\n"
     ]
    }
   ],
   "source": [
    "# Replace values in day_of_week with names of weekdays\n",
    "\n",
    "df_sub['day_of_week'] = df_sub['day_of_week'].map({0: 'Mon.',1: 'Tues.',2: 'Wed.',3: 'Thurs.',4: 'Fri.', 5: 'Sat.', 6: 'Sun.'})"
   ]
  },
  {
   "cell_type": "code",
   "execution_count": 120,
   "id": "4cc431d4",
   "metadata": {},
   "outputs": [
    {
     "name": "stderr",
     "output_type": "stream",
     "text": [
      "/var/folders/yl/zzz5svg15j310t2d1vvq8zqh0000gn/T/ipykernel_68189/3376338462.py:3: SettingWithCopyWarning: \n",
      "A value is trying to be set on a copy of a slice from a DataFrame.\n",
      "Try using .loc[row_indexer,col_indexer] = value instead\n",
      "\n",
      "See the caveats in the documentation: https://pandas.pydata.org/pandas-docs/stable/user_guide/indexing.html#returning-a-view-versus-a-copy\n",
      "  df_sub['hour_of_day'] = df_sub['start_time'].dt.hour\n"
     ]
    }
   ],
   "source": [
    "# Add hour_of_day based on start_time column\n",
    "\n",
    "df_sub['hour_of_day'] = df_sub['start_time'].dt.hour"
   ]
  },
  {
   "cell_type": "code",
   "execution_count": 121,
   "id": "cb9e5a0f",
   "metadata": {},
   "outputs": [
    {
     "data": {
      "text/plain": [
       "17    1228083\n",
       "18    1160955\n",
       "8     1008044\n",
       "16     894941\n",
       "19     807943\n",
       "9      799818\n",
       "15     773201\n",
       "14     734678\n",
       "13     712906\n",
       "12     682949\n",
       "11     592757\n",
       "7      575948\n",
       "10     567488\n",
       "20     550381\n",
       "21     386425\n",
       "22     290272\n",
       "6      273165\n",
       "23     191338\n",
       "0      110741\n",
       "5       81917\n",
       "1       61985\n",
       "2       36697\n",
       "4       24392\n",
       "3       23155\n",
       "Name: hour_of_day, dtype: int64"
      ]
     },
     "execution_count": 121,
     "metadata": {},
     "output_type": "execute_result"
    }
   ],
   "source": [
    "df_sub['hour_of_day'].value_counts(dropna = False)"
   ]
  },
  {
   "cell_type": "code",
   "execution_count": 134,
   "id": "e68aad4c",
   "metadata": {},
   "outputs": [
    {
     "data": {
      "text/plain": [
       "Pershing Square North        107661\n",
       "E 17 St & Broadway            78420\n",
       "Broadway & E 22 St            75298\n",
       "W 21 St & 6 Ave               74013\n",
       "West St & Chambers St         69132\n",
       "                              ...  \n",
       "Somers St & Broadway              2\n",
       "NYCBS Depot - FAR                 2\n",
       "LPI Facility                      1\n",
       "Madison St & Woodward Ave         1\n",
       "Fairview Ave & Linden St          1\n",
       "Name: start_station_name, Length: 1082, dtype: int64"
      ]
     },
     "execution_count": 134,
     "metadata": {},
     "output_type": "execute_result"
    }
   ],
   "source": [
    "# Find most popular start station based on start_station_name column\n",
    "\n",
    "df_sub['start_station_name'].value_counts(dropna = False)"
   ]
  },
  {
   "cell_type": "code",
   "execution_count": 145,
   "id": "f594817d",
   "metadata": {},
   "outputs": [
    {
     "data": {
      "text/plain": [
       "<AxesSubplot:xlabel='start_station_id', ylabel='Count'>"
      ]
     },
     "execution_count": 145,
     "metadata": {},
     "output_type": "execute_result"
    },
    {
     "data": {
      "image/png": "[encoded data removed]",
      "text/plain": [
       "<Figure size 432x288 with 1 Axes>"
      ]
     },
     "metadata": {},
     "output_type": "display_data"
    }
   ],
   "source": [
    "# Create a histogram the \"start_station_id\" column\n",
    "\n",
    "sns.histplot(df_sub['start_station_id'], bins = 30)"
   ]
  },
  {
   "cell_type": "code",
   "execution_count": 135,
   "id": "830d2daa",
   "metadata": {},
   "outputs": [
    {
     "data": {
      "text/plain": [
       "Pershing Square North       107241\n",
       "E 17 St & Broadway           81494\n",
       "Broadway & E 22 St           80249\n",
       "W 21 St & 6 Ave              75581\n",
       "West St & Chambers St        74292\n",
       "                             ...  \n",
       "LPI Facility                     1\n",
       "E 15 St & Irving Pl              1\n",
       "North St                         1\n",
       "Apache                           1\n",
       "Fairview Ave & Linden St         1\n",
       "Name: end_station_name, Length: 1097, dtype: int64"
      ]
     },
     "execution_count": 135,
     "metadata": {},
     "output_type": "execute_result"
    }
   ],
   "source": [
    "# Find most popular end station based on end_station_name column\n",
    "\n",
    "df_sub['end_station_name'].value_counts(dropna = False)"
   ]
  },
  {
   "cell_type": "code",
   "execution_count": 146,
   "id": "d87f5544",
   "metadata": {},
   "outputs": [
    {
     "data": {
      "text/plain": [
       "<AxesSubplot:xlabel='end_station_id', ylabel='Count'>"
      ]
     },
     "execution_count": 146,
     "metadata": {},
     "output_type": "execute_result"
    },
    {
     "data": {
      "image/png": "[encoded data removed]",
      "text/plain": [
       "<Figure size 432x288 with 1 Axes>"
      ]
     },
     "metadata": {},
     "output_type": "display_data"
    }
   ],
   "source": [
    "# Create a histogram the \"end_station_id\" column\n",
    "\n",
    "sns.histplot(df_sub['end_station_id'], bins = 30)"
   ]
  },
  {
   "cell_type": "code",
   "execution_count": 124,
   "id": "2a35bbf4",
   "metadata": {},
   "outputs": [
    {
     "data": {
      "text/html": [
       "<div>\n",
       "<style scoped>\n",
       "    .dataframe tbody tr th:only-of-type {\n",
       "        vertical-align: middle;\n",
       "    }\n",
       "\n",
       "    .dataframe tbody tr th {\n",
       "        vertical-align: top;\n",
       "    }\n",
       "\n",
       "    .dataframe thead th {\n",
       "        text-align: right;\n",
       "    }\n",
       "</style>\n",
       "<table border=\"1\" class=\"dataframe\">\n",
       "  <thead>\n",
       "    <tr style=\"text-align: right;\">\n",
       "      <th></th>\n",
       "      <th>trip_duration</th>\n",
       "      <th>start_time</th>\n",
       "      <th>stop_time</th>\n",
       "      <th>start_station_id</th>\n",
       "      <th>start_station_name</th>\n",
       "      <th>start_station_latitude</th>\n",
       "      <th>start_station_longitude</th>\n",
       "      <th>end_station_id</th>\n",
       "      <th>end_station_name</th>\n",
       "      <th>end_station_latitude</th>\n",
       "      <th>...</th>\n",
       "      <th>bike_id</th>\n",
       "      <th>user_type</th>\n",
       "      <th>birth_year</th>\n",
       "      <th>gender</th>\n",
       "      <th>age</th>\n",
       "      <th>age_group_loc</th>\n",
       "      <th>trip_duration_range_loc</th>\n",
       "      <th>station_users</th>\n",
       "      <th>day_of_week</th>\n",
       "      <th>hour_of_day</th>\n",
       "    </tr>\n",
       "  </thead>\n",
       "  <tbody>\n",
       "    <tr>\n",
       "      <th>0</th>\n",
       "      <td>11.333333</td>\n",
       "      <td>2017-01-01 00:00:21</td>\n",
       "      <td>2017-01-01 00:11:41</td>\n",
       "      <td>3226.0</td>\n",
       "      <td>W 82 St &amp; Central Park West</td>\n",
       "      <td>40.782750</td>\n",
       "      <td>-73.971370</td>\n",
       "      <td>3165.0</td>\n",
       "      <td>Central Park West &amp; W 72 St</td>\n",
       "      <td>40.775794</td>\n",
       "      <td>...</td>\n",
       "      <td>25542</td>\n",
       "      <td>Subscriber</td>\n",
       "      <td>1965.0</td>\n",
       "      <td>F</td>\n",
       "      <td>52.0</td>\n",
       "      <td>Middle-aged</td>\n",
       "      <td>Short</td>\n",
       "      <td>Less busy</td>\n",
       "      <td>Sun.</td>\n",
       "      <td>0</td>\n",
       "    </tr>\n",
       "    <tr>\n",
       "      <th>4</th>\n",
       "      <td>10.350000</td>\n",
       "      <td>2017-01-01 00:01:25</td>\n",
       "      <td>2017-01-01 00:11:47</td>\n",
       "      <td>3143.0</td>\n",
       "      <td>5 Ave &amp; E 78 St</td>\n",
       "      <td>40.776829</td>\n",
       "      <td>-73.963888</td>\n",
       "      <td>3152.0</td>\n",
       "      <td>3 Ave &amp; E 71 St</td>\n",
       "      <td>40.768737</td>\n",
       "      <td>...</td>\n",
       "      <td>26819</td>\n",
       "      <td>Customer</td>\n",
       "      <td>NaN</td>\n",
       "      <td>N/A</td>\n",
       "      <td>NaN</td>\n",
       "      <td>NaN</td>\n",
       "      <td>Short</td>\n",
       "      <td>Less busy</td>\n",
       "      <td>Sun.</td>\n",
       "      <td>0</td>\n",
       "    </tr>\n",
       "    <tr>\n",
       "      <th>8</th>\n",
       "      <td>4.250000</td>\n",
       "      <td>2017-01-01 00:05:47</td>\n",
       "      <td>2017-01-01 00:10:02</td>\n",
       "      <td>430.0</td>\n",
       "      <td>York St &amp; Jay St</td>\n",
       "      <td>40.701485</td>\n",
       "      <td>-73.986569</td>\n",
       "      <td>242.0</td>\n",
       "      <td>Carlton Ave &amp; Flushing Ave</td>\n",
       "      <td>40.697787</td>\n",
       "      <td>...</td>\n",
       "      <td>25041</td>\n",
       "      <td>Subscriber</td>\n",
       "      <td>1989.0</td>\n",
       "      <td>M</td>\n",
       "      <td>28.0</td>\n",
       "      <td>Adult</td>\n",
       "      <td>Very short</td>\n",
       "      <td>Busy</td>\n",
       "      <td>Sun.</td>\n",
       "      <td>0</td>\n",
       "    </tr>\n",
       "    <tr>\n",
       "      <th>12</th>\n",
       "      <td>33.416667</td>\n",
       "      <td>2017-01-01 00:05:57</td>\n",
       "      <td>2017-01-01 00:39:23</td>\n",
       "      <td>524.0</td>\n",
       "      <td>W 43 St &amp; 6 Ave</td>\n",
       "      <td>40.755273</td>\n",
       "      <td>-73.983169</td>\n",
       "      <td>3325.0</td>\n",
       "      <td>E 95 St &amp; 3 Ave</td>\n",
       "      <td>40.784903</td>\n",
       "      <td>...</td>\n",
       "      <td>17171</td>\n",
       "      <td>Subscriber</td>\n",
       "      <td>1992.0</td>\n",
       "      <td>M</td>\n",
       "      <td>25.0</td>\n",
       "      <td>Adult</td>\n",
       "      <td>Average</td>\n",
       "      <td>Busy</td>\n",
       "      <td>Sun.</td>\n",
       "      <td>0</td>\n",
       "    </tr>\n",
       "    <tr>\n",
       "      <th>16</th>\n",
       "      <td>14.983333</td>\n",
       "      <td>2017-01-01 00:09:20</td>\n",
       "      <td>2017-01-01 00:24:19</td>\n",
       "      <td>515.0</td>\n",
       "      <td>W 43 St &amp; 10 Ave</td>\n",
       "      <td>40.760094</td>\n",
       "      <td>-73.994618</td>\n",
       "      <td>3428.0</td>\n",
       "      <td>8 Ave &amp; W 16 St</td>\n",
       "      <td>40.740983</td>\n",
       "      <td>...</td>\n",
       "      <td>15597</td>\n",
       "      <td>Subscriber</td>\n",
       "      <td>1970.0</td>\n",
       "      <td>M</td>\n",
       "      <td>47.0</td>\n",
       "      <td>Middle-aged</td>\n",
       "      <td>Short</td>\n",
       "      <td>Busy</td>\n",
       "      <td>Sun.</td>\n",
       "      <td>0</td>\n",
       "    </tr>\n",
       "  </tbody>\n",
       "</table>\n",
       "<p>5 rows × 21 columns</p>\n",
       "</div>"
      ],
      "text/plain": [
       "    trip_duration          start_time           stop_time  start_station_id  \\\n",
       "0       11.333333 2017-01-01 00:00:21 2017-01-01 00:11:41            3226.0   \n",
       "4       10.350000 2017-01-01 00:01:25 2017-01-01 00:11:47            3143.0   \n",
       "8        4.250000 2017-01-01 00:05:47 2017-01-01 00:10:02             430.0   \n",
       "12      33.416667 2017-01-01 00:05:57 2017-01-01 00:39:23             524.0   \n",
       "16      14.983333 2017-01-01 00:09:20 2017-01-01 00:24:19             515.0   \n",
       "\n",
       "             start_station_name  start_station_latitude  \\\n",
       "0   W 82 St & Central Park West               40.782750   \n",
       "4               5 Ave & E 78 St               40.776829   \n",
       "8              York St & Jay St               40.701485   \n",
       "12              W 43 St & 6 Ave               40.755273   \n",
       "16             W 43 St & 10 Ave               40.760094   \n",
       "\n",
       "    start_station_longitude  end_station_id             end_station_name  \\\n",
       "0                -73.971370          3165.0  Central Park West & W 72 St   \n",
       "4                -73.963888          3152.0              3 Ave & E 71 St   \n",
       "8                -73.986569           242.0   Carlton Ave & Flushing Ave   \n",
       "12               -73.983169          3325.0              E 95 St & 3 Ave   \n",
       "16               -73.994618          3428.0              8 Ave & W 16 St   \n",
       "\n",
       "    end_station_latitude  ...  bike_id   user_type birth_year  gender   age  \\\n",
       "0              40.775794  ...    25542  Subscriber     1965.0       F  52.0   \n",
       "4              40.768737  ...    26819    Customer        NaN     N/A   NaN   \n",
       "8              40.697787  ...    25041  Subscriber     1989.0       M  28.0   \n",
       "12             40.784903  ...    17171  Subscriber     1992.0       M  25.0   \n",
       "16             40.740983  ...    15597  Subscriber     1970.0       M  47.0   \n",
       "\n",
       "    age_group_loc trip_duration_range_loc station_users day_of_week  \\\n",
       "0     Middle-aged                   Short     Less busy        Sun.   \n",
       "4             NaN                   Short     Less busy        Sun.   \n",
       "8           Adult              Very short          Busy        Sun.   \n",
       "12          Adult                 Average          Busy        Sun.   \n",
       "16    Middle-aged                   Short          Busy        Sun.   \n",
       "\n",
       "   hour_of_day  \n",
       "0            0  \n",
       "4            0  \n",
       "8            0  \n",
       "12           0  \n",
       "16           0  \n",
       "\n",
       "[5 rows x 21 columns]"
      ]
     },
     "execution_count": 124,
     "metadata": {},
     "output_type": "execute_result"
    }
   ],
   "source": [
    "df_sub.head()"
   ]
  },
  {
   "cell_type": "code",
   "execution_count": 125,
   "id": "4ab5dab8",
   "metadata": {},
   "outputs": [
    {
     "data": {
      "text/plain": [
       "trip_duration                     float64\n",
       "start_time                 datetime64[ns]\n",
       "stop_time                  datetime64[ns]\n",
       "start_station_id                  float64\n",
       "start_station_name                 object\n",
       "start_station_latitude            float64\n",
       "start_station_longitude           float64\n",
       "end_station_id                    float64\n",
       "end_station_name                   object\n",
       "end_station_latitude              float64\n",
       "end_station_longitude             float64\n",
       "bike_id                             int64\n",
       "user_type                          object\n",
       "birth_year                        float64\n",
       "gender                             object\n",
       "age                               float64\n",
       "age_group_loc                      object\n",
       "trip_duration_range_loc            object\n",
       "station_users                      object\n",
       "day_of_week                        object\n",
       "hour_of_day                         int64\n",
       "dtype: object"
      ]
     },
     "execution_count": 125,
     "metadata": {},
     "output_type": "execute_result"
    }
   ],
   "source": [
    "df_sub.dtypes"
   ]
  },
  {
   "cell_type": "code",
   "execution_count": 78,
   "id": "a4de755e",
   "metadata": {},
   "outputs": [
    {
     "data": {
      "text/plain": [
       "trip_duration                   0\n",
       "start_time                      0\n",
       "stop_time                       0\n",
       "start_station_id              681\n",
       "start_station_name              0\n",
       "start_station_latitude          0\n",
       "start_station_longitude         0\n",
       "end_station_id                681\n",
       "end_station_name                0\n",
       "end_station_latitude            0\n",
       "end_station_longitude           0\n",
       "bike_id                         0\n",
       "user_type                       0\n",
       "birth_year                 406862\n",
       "gender                          0\n",
       "age                        406862\n",
       "age_group_loc              406862\n",
       "trip_duration_range_loc         0\n",
       "dtype: int64"
      ]
     },
     "execution_count": 78,
     "metadata": {},
     "output_type": "execute_result"
    }
   ],
   "source": [
    "# Run a check for missing values in df_sub dataframe\n",
    "\n",
    "df_sub.isnull().sum()"
   ]
  },
  {
   "cell_type": "code",
   "execution_count": 12,
   "id": "a14adff7",
   "metadata": {},
   "outputs": [
    {
     "name": "stderr",
     "output_type": "stream",
     "text": [
      "/var/folders/yl/zzz5svg15j310t2d1vvq8zqh0000gn/T/ipykernel_68189/4061813753.py:1: SettingWithCopyWarning: \n",
      "A value is trying to be set on a copy of a slice from a DataFrame.\n",
      "Try using .loc[row_indexer,col_indexer] = value instead\n",
      "\n",
      "See the caveats in the documentation: https://pandas.pydata.org/pandas-docs/stable/user_guide/indexing.html#returning-a-view-versus-a-copy\n",
      "  df_sub['gender'] = df_sub['gender'].map({2: 'F', 1: 'M', 0: 'N/A'})\n"
     ]
    }
   ],
   "source": [
    "# Replace value in gender '0', 1' and '2' with 'M' and 'F'\n",
    "\n",
    "df_sub['gender'] = df_sub['gender'].map({2: 'F', 1: 'M', 0: 'N/A'})"
   ]
  },
  {
   "cell_type": "code",
   "execution_count": 119,
   "id": "1b7be859",
   "metadata": {},
   "outputs": [
    {
     "data": {
      "text/html": [
       "<div>\n",
       "<style scoped>\n",
       "    .dataframe tbody tr th:only-of-type {\n",
       "        vertical-align: middle;\n",
       "    }\n",
       "\n",
       "    .dataframe tbody tr th {\n",
       "        vertical-align: top;\n",
       "    }\n",
       "\n",
       "    .dataframe thead th {\n",
       "        text-align: right;\n",
       "    }\n",
       "</style>\n",
       "<table border=\"1\" class=\"dataframe\">\n",
       "  <thead>\n",
       "    <tr style=\"text-align: right;\">\n",
       "      <th></th>\n",
       "      <th>trip_duration</th>\n",
       "      <th>start_time</th>\n",
       "      <th>stop_time</th>\n",
       "      <th>start_station_id</th>\n",
       "      <th>start_station_name</th>\n",
       "      <th>start_station_latitude</th>\n",
       "      <th>start_station_longitude</th>\n",
       "      <th>end_station_id</th>\n",
       "      <th>end_station_name</th>\n",
       "      <th>end_station_latitude</th>\n",
       "      <th>end_station_longitude</th>\n",
       "      <th>bike_id</th>\n",
       "      <th>user_type</th>\n",
       "      <th>birth_year</th>\n",
       "      <th>gender</th>\n",
       "      <th>age</th>\n",
       "      <th>age_group_loc</th>\n",
       "      <th>trip_duration_range_loc</th>\n",
       "      <th>station_users</th>\n",
       "      <th>day_of_week</th>\n",
       "    </tr>\n",
       "  </thead>\n",
       "  <tbody>\n",
       "    <tr>\n",
       "      <th>0</th>\n",
       "      <td>11.333333</td>\n",
       "      <td>2017-01-01 00:00:21.000</td>\n",
       "      <td>2017-01-01 00:11:41.000</td>\n",
       "      <td>3226.0</td>\n",
       "      <td>W 82 St &amp; Central Park West</td>\n",
       "      <td>40.782750</td>\n",
       "      <td>-73.971370</td>\n",
       "      <td>3165.0</td>\n",
       "      <td>Central Park West &amp; W 72 St</td>\n",
       "      <td>40.775794</td>\n",
       "      <td>-73.976206</td>\n",
       "      <td>25542</td>\n",
       "      <td>Subscriber</td>\n",
       "      <td>1965.0</td>\n",
       "      <td>F</td>\n",
       "      <td>52.0</td>\n",
       "      <td>Middle-aged</td>\n",
       "      <td>Short</td>\n",
       "      <td>Less busy</td>\n",
       "      <td>Sun.</td>\n",
       "    </tr>\n",
       "    <tr>\n",
       "      <th>4</th>\n",
       "      <td>10.350000</td>\n",
       "      <td>2017-01-01 00:01:25.000</td>\n",
       "      <td>2017-01-01 00:11:47.000</td>\n",
       "      <td>3143.0</td>\n",
       "      <td>5 Ave &amp; E 78 St</td>\n",
       "      <td>40.776829</td>\n",
       "      <td>-73.963888</td>\n",
       "      <td>3152.0</td>\n",
       "      <td>3 Ave &amp; E 71 St</td>\n",
       "      <td>40.768737</td>\n",
       "      <td>-73.961199</td>\n",
       "      <td>26819</td>\n",
       "      <td>Customer</td>\n",
       "      <td>NaN</td>\n",
       "      <td>N/A</td>\n",
       "      <td>NaN</td>\n",
       "      <td>NaN</td>\n",
       "      <td>Short</td>\n",
       "      <td>Less busy</td>\n",
       "      <td>Sun.</td>\n",
       "    </tr>\n",
       "    <tr>\n",
       "      <th>8</th>\n",
       "      <td>4.250000</td>\n",
       "      <td>2017-01-01 00:05:47.000</td>\n",
       "      <td>2017-01-01 00:10:02.000</td>\n",
       "      <td>430.0</td>\n",
       "      <td>York St &amp; Jay St</td>\n",
       "      <td>40.701485</td>\n",
       "      <td>-73.986569</td>\n",
       "      <td>242.0</td>\n",
       "      <td>Carlton Ave &amp; Flushing Ave</td>\n",
       "      <td>40.697787</td>\n",
       "      <td>-73.973736</td>\n",
       "      <td>25041</td>\n",
       "      <td>Subscriber</td>\n",
       "      <td>1989.0</td>\n",
       "      <td>M</td>\n",
       "      <td>28.0</td>\n",
       "      <td>Adult</td>\n",
       "      <td>Very short</td>\n",
       "      <td>Busy</td>\n",
       "      <td>Sun.</td>\n",
       "    </tr>\n",
       "    <tr>\n",
       "      <th>12</th>\n",
       "      <td>33.416667</td>\n",
       "      <td>2017-01-01 00:05:57.000</td>\n",
       "      <td>2017-01-01 00:39:23.000</td>\n",
       "      <td>524.0</td>\n",
       "      <td>W 43 St &amp; 6 Ave</td>\n",
       "      <td>40.755273</td>\n",
       "      <td>-73.983169</td>\n",
       "      <td>3325.0</td>\n",
       "      <td>E 95 St &amp; 3 Ave</td>\n",
       "      <td>40.784903</td>\n",
       "      <td>-73.950503</td>\n",
       "      <td>17171</td>\n",
       "      <td>Subscriber</td>\n",
       "      <td>1992.0</td>\n",
       "      <td>M</td>\n",
       "      <td>25.0</td>\n",
       "      <td>Adult</td>\n",
       "      <td>Average</td>\n",
       "      <td>Busy</td>\n",
       "      <td>Sun.</td>\n",
       "    </tr>\n",
       "    <tr>\n",
       "      <th>16</th>\n",
       "      <td>14.983333</td>\n",
       "      <td>2017-01-01 00:09:20.000</td>\n",
       "      <td>2017-01-01 00:24:19.000</td>\n",
       "      <td>515.0</td>\n",
       "      <td>W 43 St &amp; 10 Ave</td>\n",
       "      <td>40.760094</td>\n",
       "      <td>-73.994618</td>\n",
       "      <td>3428.0</td>\n",
       "      <td>8 Ave &amp; W 16 St</td>\n",
       "      <td>40.740983</td>\n",
       "      <td>-74.001702</td>\n",
       "      <td>15597</td>\n",
       "      <td>Subscriber</td>\n",
       "      <td>1970.0</td>\n",
       "      <td>M</td>\n",
       "      <td>47.0</td>\n",
       "      <td>Middle-aged</td>\n",
       "      <td>Short</td>\n",
       "      <td>Busy</td>\n",
       "      <td>Sun.</td>\n",
       "    </tr>\n",
       "    <tr>\n",
       "      <th>...</th>\n",
       "      <td>...</td>\n",
       "      <td>...</td>\n",
       "      <td>...</td>\n",
       "      <td>...</td>\n",
       "      <td>...</td>\n",
       "      <td>...</td>\n",
       "      <td>...</td>\n",
       "      <td>...</td>\n",
       "      <td>...</td>\n",
       "      <td>...</td>\n",
       "      <td>...</td>\n",
       "      <td>...</td>\n",
       "      <td>...</td>\n",
       "      <td>...</td>\n",
       "      <td>...</td>\n",
       "      <td>...</td>\n",
       "      <td>...</td>\n",
       "      <td>...</td>\n",
       "      <td>...</td>\n",
       "      <td>...</td>\n",
       "    </tr>\n",
       "    <tr>\n",
       "      <th>955187</th>\n",
       "      <td>22.616667</td>\n",
       "      <td>2019-12-31 23:51:18.276</td>\n",
       "      <td>2020-01-01 00:13:56.184</td>\n",
       "      <td>2021.0</td>\n",
       "      <td>W 45 St &amp; 8 Ave</td>\n",
       "      <td>40.759291</td>\n",
       "      <td>-73.988597</td>\n",
       "      <td>2021.0</td>\n",
       "      <td>W 45 St &amp; 8 Ave</td>\n",
       "      <td>40.759291</td>\n",
       "      <td>-73.988597</td>\n",
       "      <td>21526</td>\n",
       "      <td>Subscriber</td>\n",
       "      <td>1991.0</td>\n",
       "      <td>F</td>\n",
       "      <td>28.0</td>\n",
       "      <td>Adult</td>\n",
       "      <td>Average</td>\n",
       "      <td>Not busy</td>\n",
       "      <td>Tues.</td>\n",
       "    </tr>\n",
       "    <tr>\n",
       "      <th>955191</th>\n",
       "      <td>7.850000</td>\n",
       "      <td>2019-12-31 23:52:57.231</td>\n",
       "      <td>2020-01-01 00:00:48.247</td>\n",
       "      <td>3151.0</td>\n",
       "      <td>E 81 St &amp; York Ave</td>\n",
       "      <td>40.772838</td>\n",
       "      <td>-73.949892</td>\n",
       "      <td>3362.0</td>\n",
       "      <td>Madison Ave &amp; E 82 St</td>\n",
       "      <td>40.778131</td>\n",
       "      <td>-73.960694</td>\n",
       "      <td>35174</td>\n",
       "      <td>Subscriber</td>\n",
       "      <td>1988.0</td>\n",
       "      <td>F</td>\n",
       "      <td>31.0</td>\n",
       "      <td>Adult</td>\n",
       "      <td>Short</td>\n",
       "      <td>Less busy</td>\n",
       "      <td>Tues.</td>\n",
       "    </tr>\n",
       "    <tr>\n",
       "      <th>955195</th>\n",
       "      <td>22.633333</td>\n",
       "      <td>2019-12-31 23:53:18.074</td>\n",
       "      <td>2020-01-01 00:15:56.948</td>\n",
       "      <td>380.0</td>\n",
       "      <td>W 4 St &amp; 7 Ave S</td>\n",
       "      <td>40.734011</td>\n",
       "      <td>-74.002939</td>\n",
       "      <td>3740.0</td>\n",
       "      <td>W Broadway &amp; W Houston St</td>\n",
       "      <td>40.726378</td>\n",
       "      <td>-74.000472</td>\n",
       "      <td>30028</td>\n",
       "      <td>Subscriber</td>\n",
       "      <td>1961.0</td>\n",
       "      <td>M</td>\n",
       "      <td>58.0</td>\n",
       "      <td>Middle-aged</td>\n",
       "      <td>Average</td>\n",
       "      <td>Busy</td>\n",
       "      <td>Tues.</td>\n",
       "    </tr>\n",
       "    <tr>\n",
       "      <th>955199</th>\n",
       "      <td>29.500000</td>\n",
       "      <td>2019-12-31 23:54:53.088</td>\n",
       "      <td>2020-01-01 00:24:23.209</td>\n",
       "      <td>3306.0</td>\n",
       "      <td>10 St &amp; 7 Ave</td>\n",
       "      <td>40.666208</td>\n",
       "      <td>-73.981999</td>\n",
       "      <td>3416.0</td>\n",
       "      <td>7 Ave &amp; Park Pl</td>\n",
       "      <td>40.677615</td>\n",
       "      <td>-73.973243</td>\n",
       "      <td>28153</td>\n",
       "      <td>Customer</td>\n",
       "      <td>1977.0</td>\n",
       "      <td>M</td>\n",
       "      <td>42.0</td>\n",
       "      <td>Middle-aged</td>\n",
       "      <td>Average</td>\n",
       "      <td>Less busy</td>\n",
       "      <td>Tues.</td>\n",
       "    </tr>\n",
       "    <tr>\n",
       "      <th>955203</th>\n",
       "      <td>2034.983333</td>\n",
       "      <td>2019-12-31 23:55:30.726</td>\n",
       "      <td>2020-01-02 09:50:30.671</td>\n",
       "      <td>3712.0</td>\n",
       "      <td>W 35 St &amp; Dyer Ave</td>\n",
       "      <td>40.754692</td>\n",
       "      <td>-73.997402</td>\n",
       "      <td>347.0</td>\n",
       "      <td>Greenwich St &amp; W Houston St</td>\n",
       "      <td>40.728846</td>\n",
       "      <td>-74.008591</td>\n",
       "      <td>38866</td>\n",
       "      <td>Customer</td>\n",
       "      <td>1977.0</td>\n",
       "      <td>M</td>\n",
       "      <td>42.0</td>\n",
       "      <td>Middle-aged</td>\n",
       "      <td>Very long</td>\n",
       "      <td>Not busy</td>\n",
       "      <td>Tues.</td>\n",
       "    </tr>\n",
       "  </tbody>\n",
       "</table>\n",
       "<p>12570179 rows × 20 columns</p>\n",
       "</div>"
      ],
      "text/plain": [
       "        trip_duration              start_time               stop_time  \\\n",
       "0           11.333333 2017-01-01 00:00:21.000 2017-01-01 00:11:41.000   \n",
       "4           10.350000 2017-01-01 00:01:25.000 2017-01-01 00:11:47.000   \n",
       "8            4.250000 2017-01-01 00:05:47.000 2017-01-01 00:10:02.000   \n",
       "12          33.416667 2017-01-01 00:05:57.000 2017-01-01 00:39:23.000   \n",
       "16          14.983333 2017-01-01 00:09:20.000 2017-01-01 00:24:19.000   \n",
       "...               ...                     ...                     ...   \n",
       "955187      22.616667 2019-12-31 23:51:18.276 2020-01-01 00:13:56.184   \n",
       "955191       7.850000 2019-12-31 23:52:57.231 2020-01-01 00:00:48.247   \n",
       "955195      22.633333 2019-12-31 23:53:18.074 2020-01-01 00:15:56.948   \n",
       "955199      29.500000 2019-12-31 23:54:53.088 2020-01-01 00:24:23.209   \n",
       "955203    2034.983333 2019-12-31 23:55:30.726 2020-01-02 09:50:30.671   \n",
       "\n",
       "        start_station_id           start_station_name  start_station_latitude  \\\n",
       "0                 3226.0  W 82 St & Central Park West               40.782750   \n",
       "4                 3143.0              5 Ave & E 78 St               40.776829   \n",
       "8                  430.0             York St & Jay St               40.701485   \n",
       "12                 524.0              W 43 St & 6 Ave               40.755273   \n",
       "16                 515.0             W 43 St & 10 Ave               40.760094   \n",
       "...                  ...                          ...                     ...   \n",
       "955187            2021.0              W 45 St & 8 Ave               40.759291   \n",
       "955191            3151.0           E 81 St & York Ave               40.772838   \n",
       "955195             380.0             W 4 St & 7 Ave S               40.734011   \n",
       "955199            3306.0                10 St & 7 Ave               40.666208   \n",
       "955203            3712.0           W 35 St & Dyer Ave               40.754692   \n",
       "\n",
       "        start_station_longitude  end_station_id             end_station_name  \\\n",
       "0                    -73.971370          3165.0  Central Park West & W 72 St   \n",
       "4                    -73.963888          3152.0              3 Ave & E 71 St   \n",
       "8                    -73.986569           242.0   Carlton Ave & Flushing Ave   \n",
       "12                   -73.983169          3325.0              E 95 St & 3 Ave   \n",
       "16                   -73.994618          3428.0              8 Ave & W 16 St   \n",
       "...                         ...             ...                          ...   \n",
       "955187               -73.988597          2021.0              W 45 St & 8 Ave   \n",
       "955191               -73.949892          3362.0        Madison Ave & E 82 St   \n",
       "955195               -74.002939          3740.0    W Broadway & W Houston St   \n",
       "955199               -73.981999          3416.0              7 Ave & Park Pl   \n",
       "955203               -73.997402           347.0  Greenwich St & W Houston St   \n",
       "\n",
       "        end_station_latitude  end_station_longitude  bike_id   user_type  \\\n",
       "0                  40.775794             -73.976206    25542  Subscriber   \n",
       "4                  40.768737             -73.961199    26819    Customer   \n",
       "8                  40.697787             -73.973736    25041  Subscriber   \n",
       "12                 40.784903             -73.950503    17171  Subscriber   \n",
       "16                 40.740983             -74.001702    15597  Subscriber   \n",
       "...                      ...                    ...      ...         ...   \n",
       "955187             40.759291             -73.988597    21526  Subscriber   \n",
       "955191             40.778131             -73.960694    35174  Subscriber   \n",
       "955195             40.726378             -74.000472    30028  Subscriber   \n",
       "955199             40.677615             -73.973243    28153    Customer   \n",
       "955203             40.728846             -74.008591    38866    Customer   \n",
       "\n",
       "        birth_year gender   age age_group_loc trip_duration_range_loc  \\\n",
       "0           1965.0      F  52.0   Middle-aged                   Short   \n",
       "4              NaN    N/A   NaN           NaN                   Short   \n",
       "8           1989.0      M  28.0         Adult              Very short   \n",
       "12          1992.0      M  25.0         Adult                 Average   \n",
       "16          1970.0      M  47.0   Middle-aged                   Short   \n",
       "...            ...    ...   ...           ...                     ...   \n",
       "955187      1991.0      F  28.0         Adult                 Average   \n",
       "955191      1988.0      F  31.0         Adult                   Short   \n",
       "955195      1961.0      M  58.0   Middle-aged                 Average   \n",
       "955199      1977.0      M  42.0   Middle-aged                 Average   \n",
       "955203      1977.0      M  42.0   Middle-aged               Very long   \n",
       "\n",
       "       station_users day_of_week  \n",
       "0          Less busy        Sun.  \n",
       "4          Less busy        Sun.  \n",
       "8               Busy        Sun.  \n",
       "12              Busy        Sun.  \n",
       "16              Busy        Sun.  \n",
       "...              ...         ...  \n",
       "955187      Not busy       Tues.  \n",
       "955191     Less busy       Tues.  \n",
       "955195          Busy       Tues.  \n",
       "955199     Less busy       Tues.  \n",
       "955203      Not busy       Tues.  \n",
       "\n",
       "[12570179 rows x 20 columns]"
      ]
     },
     "execution_count": 119,
     "metadata": {},
     "output_type": "execute_result"
    }
   ],
   "source": [
    "df_sub"
   ]
  },
  {
   "cell_type": "code",
   "execution_count": 122,
   "id": "1be97923",
   "metadata": {},
   "outputs": [],
   "source": [
    "# Save changes to column gender\n",
    "\n",
    "df_sub = df_sub"
   ]
  },
  {
   "cell_type": "code",
   "execution_count": 28,
   "id": "6dcc8fb3",
   "metadata": {},
   "outputs": [
    {
     "name": "stderr",
     "output_type": "stream",
     "text": [
      "/var/folders/yl/zzz5svg15j310t2d1vvq8zqh0000gn/T/ipykernel_68189/1080006552.py:3: SettingWithCopyWarning: \n",
      "A value is trying to be set on a copy of a slice from a DataFrame.\n",
      "Try using .loc[row_indexer,col_indexer] = value instead\n",
      "\n",
      "See the caveats in the documentation: https://pandas.pydata.org/pandas-docs/stable/user_guide/indexing.html#returning-a-view-versus-a-copy\n",
      "  df_sub[['start_time','stop_time']] = df_sub[['start_time','stop_time']].apply(pd.to_datetime, format='%Y-%m-%d %H:%M:%S.%f')\n"
     ]
    }
   ],
   "source": [
    "# Change start_time and stop_time data type\n",
    "\n",
    "df_sub[['start_time','stop_time']] = df_sub[['start_time','stop_time']].apply(pd.to_datetime, format='%Y-%m-%d %H:%M:%S.%f')"
   ]
  },
  {
   "cell_type": "code",
   "execution_count": 61,
   "id": "28897317",
   "metadata": {},
   "outputs": [
    {
     "data": {
      "text/html": [
       "<div>\n",
       "<style scoped>\n",
       "    .dataframe tbody tr th:only-of-type {\n",
       "        vertical-align: middle;\n",
       "    }\n",
       "\n",
       "    .dataframe tbody tr th {\n",
       "        vertical-align: top;\n",
       "    }\n",
       "\n",
       "    .dataframe thead th {\n",
       "        text-align: right;\n",
       "    }\n",
       "</style>\n",
       "<table border=\"1\" class=\"dataframe\">\n",
       "  <thead>\n",
       "    <tr style=\"text-align: right;\">\n",
       "      <th></th>\n",
       "      <th>trip_duration</th>\n",
       "      <th>start_time</th>\n",
       "      <th>stop_time</th>\n",
       "      <th>start_station_id</th>\n",
       "      <th>start_station_name</th>\n",
       "      <th>start_station_latitude</th>\n",
       "      <th>start_station_longitude</th>\n",
       "      <th>end_station_id</th>\n",
       "      <th>end_station_name</th>\n",
       "      <th>end_station_latitude</th>\n",
       "      <th>end_station_longitude</th>\n",
       "      <th>bike_id</th>\n",
       "      <th>user_type</th>\n",
       "      <th>birth_year</th>\n",
       "      <th>gender</th>\n",
       "      <th>age</th>\n",
       "      <th>age_group_loc</th>\n",
       "      <th>trip_duration_range_loc</th>\n",
       "    </tr>\n",
       "  </thead>\n",
       "  <tbody>\n",
       "    <tr>\n",
       "      <th>0</th>\n",
       "      <td>11.333333</td>\n",
       "      <td>2017-01-01 00:00:21</td>\n",
       "      <td>2017-01-01 00:11:41</td>\n",
       "      <td>3226.0</td>\n",
       "      <td>W 82 St &amp; Central Park West</td>\n",
       "      <td>40.782750</td>\n",
       "      <td>-73.971370</td>\n",
       "      <td>3165.0</td>\n",
       "      <td>Central Park West &amp; W 72 St</td>\n",
       "      <td>40.775794</td>\n",
       "      <td>-73.976206</td>\n",
       "      <td>25542</td>\n",
       "      <td>Subscriber</td>\n",
       "      <td>1965.0</td>\n",
       "      <td>F</td>\n",
       "      <td>52.0</td>\n",
       "      <td>Middle-aged</td>\n",
       "      <td>Average</td>\n",
       "    </tr>\n",
       "    <tr>\n",
       "      <th>4</th>\n",
       "      <td>10.350000</td>\n",
       "      <td>2017-01-01 00:01:25</td>\n",
       "      <td>2017-01-01 00:11:47</td>\n",
       "      <td>3143.0</td>\n",
       "      <td>5 Ave &amp; E 78 St</td>\n",
       "      <td>40.776829</td>\n",
       "      <td>-73.963888</td>\n",
       "      <td>3152.0</td>\n",
       "      <td>3 Ave &amp; E 71 St</td>\n",
       "      <td>40.768737</td>\n",
       "      <td>-73.961199</td>\n",
       "      <td>26819</td>\n",
       "      <td>Customer</td>\n",
       "      <td>NaN</td>\n",
       "      <td>N/A</td>\n",
       "      <td>NaN</td>\n",
       "      <td>NaN</td>\n",
       "      <td>Average</td>\n",
       "    </tr>\n",
       "    <tr>\n",
       "      <th>8</th>\n",
       "      <td>4.250000</td>\n",
       "      <td>2017-01-01 00:05:47</td>\n",
       "      <td>2017-01-01 00:10:02</td>\n",
       "      <td>430.0</td>\n",
       "      <td>York St &amp; Jay St</td>\n",
       "      <td>40.701485</td>\n",
       "      <td>-73.986569</td>\n",
       "      <td>242.0</td>\n",
       "      <td>Carlton Ave &amp; Flushing Ave</td>\n",
       "      <td>40.697787</td>\n",
       "      <td>-73.973736</td>\n",
       "      <td>25041</td>\n",
       "      <td>Subscriber</td>\n",
       "      <td>1989.0</td>\n",
       "      <td>M</td>\n",
       "      <td>28.0</td>\n",
       "      <td>Adult</td>\n",
       "      <td>Very short</td>\n",
       "    </tr>\n",
       "    <tr>\n",
       "      <th>12</th>\n",
       "      <td>33.416667</td>\n",
       "      <td>2017-01-01 00:05:57</td>\n",
       "      <td>2017-01-01 00:39:23</td>\n",
       "      <td>524.0</td>\n",
       "      <td>W 43 St &amp; 6 Ave</td>\n",
       "      <td>40.755273</td>\n",
       "      <td>-73.983169</td>\n",
       "      <td>3325.0</td>\n",
       "      <td>E 95 St &amp; 3 Ave</td>\n",
       "      <td>40.784903</td>\n",
       "      <td>-73.950503</td>\n",
       "      <td>17171</td>\n",
       "      <td>Subscriber</td>\n",
       "      <td>1992.0</td>\n",
       "      <td>M</td>\n",
       "      <td>25.0</td>\n",
       "      <td>Adult</td>\n",
       "      <td>Average</td>\n",
       "    </tr>\n",
       "    <tr>\n",
       "      <th>16</th>\n",
       "      <td>14.983333</td>\n",
       "      <td>2017-01-01 00:09:20</td>\n",
       "      <td>2017-01-01 00:24:19</td>\n",
       "      <td>515.0</td>\n",
       "      <td>W 43 St &amp; 10 Ave</td>\n",
       "      <td>40.760094</td>\n",
       "      <td>-73.994618</td>\n",
       "      <td>3428.0</td>\n",
       "      <td>8 Ave &amp; W 16 St</td>\n",
       "      <td>40.740983</td>\n",
       "      <td>-74.001702</td>\n",
       "      <td>15597</td>\n",
       "      <td>Subscriber</td>\n",
       "      <td>1970.0</td>\n",
       "      <td>M</td>\n",
       "      <td>47.0</td>\n",
       "      <td>Middle-aged</td>\n",
       "      <td>Average</td>\n",
       "    </tr>\n",
       "  </tbody>\n",
       "</table>\n",
       "</div>"
      ],
      "text/plain": [
       "    trip_duration          start_time           stop_time  start_station_id  \\\n",
       "0       11.333333 2017-01-01 00:00:21 2017-01-01 00:11:41            3226.0   \n",
       "4       10.350000 2017-01-01 00:01:25 2017-01-01 00:11:47            3143.0   \n",
       "8        4.250000 2017-01-01 00:05:47 2017-01-01 00:10:02             430.0   \n",
       "12      33.416667 2017-01-01 00:05:57 2017-01-01 00:39:23             524.0   \n",
       "16      14.983333 2017-01-01 00:09:20 2017-01-01 00:24:19             515.0   \n",
       "\n",
       "             start_station_name  start_station_latitude  \\\n",
       "0   W 82 St & Central Park West               40.782750   \n",
       "4               5 Ave & E 78 St               40.776829   \n",
       "8              York St & Jay St               40.701485   \n",
       "12              W 43 St & 6 Ave               40.755273   \n",
       "16             W 43 St & 10 Ave               40.760094   \n",
       "\n",
       "    start_station_longitude  end_station_id             end_station_name  \\\n",
       "0                -73.971370          3165.0  Central Park West & W 72 St   \n",
       "4                -73.963888          3152.0              3 Ave & E 71 St   \n",
       "8                -73.986569           242.0   Carlton Ave & Flushing Ave   \n",
       "12               -73.983169          3325.0              E 95 St & 3 Ave   \n",
       "16               -73.994618          3428.0              8 Ave & W 16 St   \n",
       "\n",
       "    end_station_latitude  end_station_longitude  bike_id   user_type  \\\n",
       "0              40.775794             -73.976206    25542  Subscriber   \n",
       "4              40.768737             -73.961199    26819    Customer   \n",
       "8              40.697787             -73.973736    25041  Subscriber   \n",
       "12             40.784903             -73.950503    17171  Subscriber   \n",
       "16             40.740983             -74.001702    15597  Subscriber   \n",
       "\n",
       "    birth_year gender   age age_group_loc trip_duration_range_loc  \n",
       "0       1965.0      F  52.0   Middle-aged                 Average  \n",
       "4          NaN    N/A   NaN           NaN                 Average  \n",
       "8       1989.0      M  28.0         Adult              Very short  \n",
       "12      1992.0      M  25.0         Adult                 Average  \n",
       "16      1970.0      M  47.0   Middle-aged                 Average  "
      ]
     },
     "execution_count": 61,
     "metadata": {},
     "output_type": "execute_result"
    }
   ],
   "source": [
    "df_sub.head()"
   ]
  },
  {
   "cell_type": "code",
   "execution_count": 46,
   "id": "536cd28b",
   "metadata": {},
   "outputs": [
    {
     "name": "stderr",
     "output_type": "stream",
     "text": [
      "/var/folders/yl/zzz5svg15j310t2d1vvq8zqh0000gn/T/ipykernel_68189/1879481320.py:3: SettingWithCopyWarning: \n",
      "A value is trying to be set on a copy of a slice from a DataFrame.\n",
      "Try using .loc[row_indexer,col_indexer] = value instead\n",
      "\n",
      "See the caveats in the documentation: https://pandas.pydata.org/pandas-docs/stable/user_guide/indexing.html#returning-a-view-versus-a-copy\n",
      "  df_sub['age'] = df_sub['start_time'].dt.year - df_sub['birth_year']\n"
     ]
    }
   ],
   "source": [
    "# Calculate age from birth_year column\n",
    "\n",
    "df_sub['age'] = df_sub['start_time'].dt.year - df_sub['birth_year']"
   ]
  },
  {
   "cell_type": "code",
   "execution_count": 57,
   "id": "d136d3cf",
   "metadata": {},
   "outputs": [],
   "source": [
    "# Create age_group flag\n",
    "\n",
    "df_sub.loc[df_sub['age'] > 60, 'age_group_loc'] = 'Older'\n",
    "df_sub.loc[(df_sub['age'] >= 40) & (df_sub['age'] <= 60), 'age_group_loc'] = 'Middle-aged'\n",
    "df_sub.loc[(df_sub['age'] >= 18) & (df_sub['age'] < 40), 'age_group_loc'] = 'Adult'\n",
    "df_sub.loc[df_sub['age'] < 18, 'age_group_loc'] = 'Underage'"
   ]
  },
  {
   "cell_type": "code",
   "execution_count": 72,
   "id": "d01ef77c",
   "metadata": {},
   "outputs": [],
   "source": [
    "# Create trip_duration flag\n",
    "\n",
    "df_sub.loc[df_sub['trip_duration'] > 180 , 'trip_duration_range_loc'] = 'Very long'\n",
    "df_sub.loc[(df_sub['trip_duration'] > 60 ) & (df_sub['trip_duration'] <= 180), 'trip_duration_range_loc'] = 'Long'\n",
    "df_sub.loc[(df_sub['trip_duration'] >= 15) & (df_sub['trip_duration'] <= 60), 'trip_duration_range_loc'] = 'Average'\n",
    "df_sub.loc[(df_sub['trip_duration'] > 5) & (df_sub['trip_duration'] < 15), 'trip_duration_range_loc'] = 'Short'\n",
    "df_sub.loc[df_sub['trip_duration'] <= 5, 'trip_duration_range_loc'] = 'Very short'"
   ]
  },
  {
   "cell_type": "code",
   "execution_count": 95,
   "id": "9cf76f36",
   "metadata": {},
   "outputs": [],
   "source": [
    "# Create start_station use flag\n",
    "\n",
    "df_sub.loc[(df_sub['start_station_id'] >= 250) & (df_sub['start_station_id'] < 550), 'station_users'] = 'Busy'\n",
    "df_sub.loc[(df_sub['start_station_id'] >= 150) & (df_sub['start_station_id'] < 250), 'station_users'] = 'Less busy'\n",
    "df_sub.loc[(df_sub['start_station_id'] >= 3000) & (df_sub['start_station_id'] < 3400), 'station_users'] = 'Less busy'\n",
    "df_sub.loc[(df_sub['start_station_id'] >= 0) & (df_sub['start_station_id'] < 150), 'station_users'] = 'Not busy'\n",
    "df_sub.loc[(df_sub['start_station_id'] >= 550) & (df_sub['start_station_id'] < 3000), 'station_users'] = 'Not busy'\n",
    "df_sub.loc[(df_sub['start_station_id'] >= 3400) & (df_sub['start_station_id'] < 5000), 'station_users'] = 'Not busy'"
   ]
  },
  {
   "cell_type": "code",
   "execution_count": 97,
   "id": "2ea02c09",
   "metadata": {},
   "outputs": [
    {
     "data": {
      "text/plain": [
       "Busy         6570119\n",
       "Less busy    3751257\n",
       "Not busy     2387564\n",
       "NaN              681\n",
       "Name: station_users, dtype: int64"
      ]
     },
     "execution_count": 97,
     "metadata": {},
     "output_type": "execute_result"
    }
   ],
   "source": [
    "df_sub['station_users'].value_counts(dropna = False)"
   ]
  },
  {
   "cell_type": "code",
   "execution_count": 126,
   "id": "5e65b637",
   "metadata": {},
   "outputs": [],
   "source": [
    "# Save changes to dataframe\n",
    "\n",
    "df_sub = df_sub"
   ]
  },
  {
   "cell_type": "code",
   "execution_count": 127,
   "id": "c9cf1ad4",
   "metadata": {},
   "outputs": [
    {
     "data": {
      "text/html": [
       "<div>\n",
       "<style scoped>\n",
       "    .dataframe tbody tr th:only-of-type {\n",
       "        vertical-align: middle;\n",
       "    }\n",
       "\n",
       "    .dataframe tbody tr th {\n",
       "        vertical-align: top;\n",
       "    }\n",
       "\n",
       "    .dataframe thead th {\n",
       "        text-align: right;\n",
       "    }\n",
       "</style>\n",
       "<table border=\"1\" class=\"dataframe\">\n",
       "  <thead>\n",
       "    <tr style=\"text-align: right;\">\n",
       "      <th></th>\n",
       "      <th>trip_duration</th>\n",
       "      <th>start_station_id</th>\n",
       "      <th>start_station_latitude</th>\n",
       "      <th>start_station_longitude</th>\n",
       "      <th>end_station_id</th>\n",
       "      <th>end_station_latitude</th>\n",
       "      <th>end_station_longitude</th>\n",
       "      <th>bike_id</th>\n",
       "      <th>birth_year</th>\n",
       "      <th>age</th>\n",
       "      <th>hour_of_day</th>\n",
       "    </tr>\n",
       "  </thead>\n",
       "  <tbody>\n",
       "    <tr>\n",
       "      <th>count</th>\n",
       "      <td>1.257018e+07</td>\n",
       "      <td>1.256950e+07</td>\n",
       "      <td>1.257018e+07</td>\n",
       "      <td>1.257018e+07</td>\n",
       "      <td>1.256950e+07</td>\n",
       "      <td>1.257018e+07</td>\n",
       "      <td>1.257018e+07</td>\n",
       "      <td>1.257018e+07</td>\n",
       "      <td>1.216777e+07</td>\n",
       "      <td>1.216777e+07</td>\n",
       "      <td>1.257018e+07</td>\n",
       "    </tr>\n",
       "    <tr>\n",
       "      <th>mean</th>\n",
       "      <td>1.605047e+01</td>\n",
       "      <td>1.563368e+03</td>\n",
       "      <td>4.073719e+01</td>\n",
       "      <td>-7.398284e+01</td>\n",
       "      <td>1.554510e+03</td>\n",
       "      <td>4.073637e+01</td>\n",
       "      <td>-7.398214e+01</td>\n",
       "      <td>2.711315e+04</td>\n",
       "      <td>1.979593e+03</td>\n",
       "      <td>3.859103e+01</td>\n",
       "      <td>1.388533e+01</td>\n",
       "    </tr>\n",
       "    <tr>\n",
       "      <th>std</th>\n",
       "      <td>1.965422e+02</td>\n",
       "      <td>1.438233e+03</td>\n",
       "      <td>5.177198e-02</td>\n",
       "      <td>7.762369e-02</td>\n",
       "      <td>1.437227e+03</td>\n",
       "      <td>1.525260e-01</td>\n",
       "      <td>2.719464e-01</td>\n",
       "      <td>7.022366e+03</td>\n",
       "      <td>1.182903e+01</td>\n",
       "      <td>1.181427e+01</td>\n",
       "      <td>4.852839e+00</td>\n",
       "    </tr>\n",
       "    <tr>\n",
       "      <th>min</th>\n",
       "      <td>1.016667e+00</td>\n",
       "      <td>7.200000e+01</td>\n",
       "      <td>0.000000e+00</td>\n",
       "      <td>-7.409694e+01</td>\n",
       "      <td>7.200000e+01</td>\n",
       "      <td>0.000000e+00</td>\n",
       "      <td>-7.409694e+01</td>\n",
       "      <td>1.452900e+04</td>\n",
       "      <td>1.937000e+03</td>\n",
       "      <td>1.600000e+01</td>\n",
       "      <td>0.000000e+00</td>\n",
       "    </tr>\n",
       "    <tr>\n",
       "      <th>25%</th>\n",
       "      <td>6.033333e+00</td>\n",
       "      <td>3.790000e+02</td>\n",
       "      <td>4.071757e+01</td>\n",
       "      <td>-7.399530e+01</td>\n",
       "      <td>3.770000e+02</td>\n",
       "      <td>4.071755e+01</td>\n",
       "      <td>-7.399596e+01</td>\n",
       "      <td>2.031400e+04</td>\n",
       "      <td>1.970000e+03</td>\n",
       "      <td>2.900000e+01</td>\n",
       "      <td>1.000000e+01</td>\n",
       "    </tr>\n",
       "    <tr>\n",
       "      <th>50%</th>\n",
       "      <td>1.016667e+01</td>\n",
       "      <td>5.030000e+02</td>\n",
       "      <td>4.073805e+01</td>\n",
       "      <td>-7.398602e+01</td>\n",
       "      <td>5.010000e+02</td>\n",
       "      <td>4.073726e+01</td>\n",
       "      <td>-7.398658e+01</td>\n",
       "      <td>2.802700e+04</td>\n",
       "      <td>1.982000e+03</td>\n",
       "      <td>3.600000e+01</td>\n",
       "      <td>1.400000e+01</td>\n",
       "    </tr>\n",
       "    <tr>\n",
       "      <th>75%</th>\n",
       "      <td>1.775000e+01</td>\n",
       "      <td>3.236000e+03</td>\n",
       "      <td>4.075719e+01</td>\n",
       "      <td>-7.397344e+01</td>\n",
       "      <td>3.236000e+03</td>\n",
       "      <td>4.075660e+01</td>\n",
       "      <td>-7.397371e+01</td>\n",
       "      <td>3.233800e+04</td>\n",
       "      <td>1.989000e+03</td>\n",
       "      <td>4.800000e+01</td>\n",
       "      <td>1.800000e+01</td>\n",
       "    </tr>\n",
       "    <tr>\n",
       "      <th>max</th>\n",
       "      <td>1.556710e+05</td>\n",
       "      <td>3.911000e+03</td>\n",
       "      <td>4.550636e+01</td>\n",
       "      <td>0.000000e+00</td>\n",
       "      <td>3.911000e+03</td>\n",
       "      <td>4.550636e+01</td>\n",
       "      <td>0.000000e+00</td>\n",
       "      <td>4.204600e+04</td>\n",
       "      <td>2.003000e+03</td>\n",
       "      <td>8.000000e+01</td>\n",
       "      <td>2.300000e+01</td>\n",
       "    </tr>\n",
       "  </tbody>\n",
       "</table>\n",
       "</div>"
      ],
      "text/plain": [
       "       trip_duration  start_station_id  start_station_latitude  \\\n",
       "count   1.257018e+07      1.256950e+07            1.257018e+07   \n",
       "mean    1.605047e+01      1.563368e+03            4.073719e+01   \n",
       "std     1.965422e+02      1.438233e+03            5.177198e-02   \n",
       "min     1.016667e+00      7.200000e+01            0.000000e+00   \n",
       "25%     6.033333e+00      3.790000e+02            4.071757e+01   \n",
       "50%     1.016667e+01      5.030000e+02            4.073805e+01   \n",
       "75%     1.775000e+01      3.236000e+03            4.075719e+01   \n",
       "max     1.556710e+05      3.911000e+03            4.550636e+01   \n",
       "\n",
       "       start_station_longitude  end_station_id  end_station_latitude  \\\n",
       "count             1.257018e+07    1.256950e+07          1.257018e+07   \n",
       "mean             -7.398284e+01    1.554510e+03          4.073637e+01   \n",
       "std               7.762369e-02    1.437227e+03          1.525260e-01   \n",
       "min              -7.409694e+01    7.200000e+01          0.000000e+00   \n",
       "25%              -7.399530e+01    3.770000e+02          4.071755e+01   \n",
       "50%              -7.398602e+01    5.010000e+02          4.073726e+01   \n",
       "75%              -7.397344e+01    3.236000e+03          4.075660e+01   \n",
       "max               0.000000e+00    3.911000e+03          4.550636e+01   \n",
       "\n",
       "       end_station_longitude       bike_id    birth_year           age  \\\n",
       "count           1.257018e+07  1.257018e+07  1.216777e+07  1.216777e+07   \n",
       "mean           -7.398214e+01  2.711315e+04  1.979593e+03  3.859103e+01   \n",
       "std             2.719464e-01  7.022366e+03  1.182903e+01  1.181427e+01   \n",
       "min            -7.409694e+01  1.452900e+04  1.937000e+03  1.600000e+01   \n",
       "25%            -7.399596e+01  2.031400e+04  1.970000e+03  2.900000e+01   \n",
       "50%            -7.398658e+01  2.802700e+04  1.982000e+03  3.600000e+01   \n",
       "75%            -7.397371e+01  3.233800e+04  1.989000e+03  4.800000e+01   \n",
       "max             0.000000e+00  4.204600e+04  2.003000e+03  8.000000e+01   \n",
       "\n",
       "        hour_of_day  \n",
       "count  1.257018e+07  \n",
       "mean   1.388533e+01  \n",
       "std    4.852839e+00  \n",
       "min    0.000000e+00  \n",
       "25%    1.000000e+01  \n",
       "50%    1.400000e+01  \n",
       "75%    1.800000e+01  \n",
       "max    2.300000e+01  "
      ]
     },
     "execution_count": 127,
     "metadata": {},
     "output_type": "execute_result"
    }
   ],
   "source": [
    "df_sub.describe()"
   ]
  },
  {
   "cell_type": "markdown",
   "id": "8ee6b9d0",
   "metadata": {},
   "source": [
    "## Step 3. Create a correlation matrix heatmap (coloured) using seaborn"
   ]
  },
  {
   "cell_type": "code",
   "execution_count": 147,
   "id": "7926ddbf",
   "metadata": {},
   "outputs": [],
   "source": [
    "# Create a subset excluding any unneccessary columns\n",
    "\n",
    "subset1 = df_sub[['trip_duration','start_time', 'user_type', 'birth_year', 'gender', 'age', 'trip_duration_range_loc', 'hour_of_day', 'day_of_week']]"
   ]
  },
  {
   "cell_type": "code",
   "execution_count": 148,
   "id": "fb465325",
   "metadata": {},
   "outputs": [
    {
     "data": {
      "text/html": [
       "<div>\n",
       "<style scoped>\n",
       "    .dataframe tbody tr th:only-of-type {\n",
       "        vertical-align: middle;\n",
       "    }\n",
       "\n",
       "    .dataframe tbody tr th {\n",
       "        vertical-align: top;\n",
       "    }\n",
       "\n",
       "    .dataframe thead th {\n",
       "        text-align: right;\n",
       "    }\n",
       "</style>\n",
       "<table border=\"1\" class=\"dataframe\">\n",
       "  <thead>\n",
       "    <tr style=\"text-align: right;\">\n",
       "      <th></th>\n",
       "      <th>trip_duration</th>\n",
       "      <th>start_time</th>\n",
       "      <th>user_type</th>\n",
       "      <th>birth_year</th>\n",
       "      <th>gender</th>\n",
       "      <th>age</th>\n",
       "      <th>trip_duration_range_loc</th>\n",
       "      <th>hour_of_day</th>\n",
       "      <th>day_of_week</th>\n",
       "    </tr>\n",
       "  </thead>\n",
       "  <tbody>\n",
       "    <tr>\n",
       "      <th>0</th>\n",
       "      <td>11.333333</td>\n",
       "      <td>2017-01-01 00:00:21.000</td>\n",
       "      <td>Subscriber</td>\n",
       "      <td>1965.0</td>\n",
       "      <td>F</td>\n",
       "      <td>52.0</td>\n",
       "      <td>Short</td>\n",
       "      <td>0</td>\n",
       "      <td>Sun.</td>\n",
       "    </tr>\n",
       "    <tr>\n",
       "      <th>4</th>\n",
       "      <td>10.350000</td>\n",
       "      <td>2017-01-01 00:01:25.000</td>\n",
       "      <td>Customer</td>\n",
       "      <td>NaN</td>\n",
       "      <td>N/A</td>\n",
       "      <td>NaN</td>\n",
       "      <td>Short</td>\n",
       "      <td>0</td>\n",
       "      <td>Sun.</td>\n",
       "    </tr>\n",
       "    <tr>\n",
       "      <th>8</th>\n",
       "      <td>4.250000</td>\n",
       "      <td>2017-01-01 00:05:47.000</td>\n",
       "      <td>Subscriber</td>\n",
       "      <td>1989.0</td>\n",
       "      <td>M</td>\n",
       "      <td>28.0</td>\n",
       "      <td>Very short</td>\n",
       "      <td>0</td>\n",
       "      <td>Sun.</td>\n",
       "    </tr>\n",
       "    <tr>\n",
       "      <th>12</th>\n",
       "      <td>33.416667</td>\n",
       "      <td>2017-01-01 00:05:57.000</td>\n",
       "      <td>Subscriber</td>\n",
       "      <td>1992.0</td>\n",
       "      <td>M</td>\n",
       "      <td>25.0</td>\n",
       "      <td>Average</td>\n",
       "      <td>0</td>\n",
       "      <td>Sun.</td>\n",
       "    </tr>\n",
       "    <tr>\n",
       "      <th>16</th>\n",
       "      <td>14.983333</td>\n",
       "      <td>2017-01-01 00:09:20.000</td>\n",
       "      <td>Subscriber</td>\n",
       "      <td>1970.0</td>\n",
       "      <td>M</td>\n",
       "      <td>47.0</td>\n",
       "      <td>Short</td>\n",
       "      <td>0</td>\n",
       "      <td>Sun.</td>\n",
       "    </tr>\n",
       "    <tr>\n",
       "      <th>...</th>\n",
       "      <td>...</td>\n",
       "      <td>...</td>\n",
       "      <td>...</td>\n",
       "      <td>...</td>\n",
       "      <td>...</td>\n",
       "      <td>...</td>\n",
       "      <td>...</td>\n",
       "      <td>...</td>\n",
       "      <td>...</td>\n",
       "    </tr>\n",
       "    <tr>\n",
       "      <th>955187</th>\n",
       "      <td>22.616667</td>\n",
       "      <td>2019-12-31 23:51:18.276</td>\n",
       "      <td>Subscriber</td>\n",
       "      <td>1991.0</td>\n",
       "      <td>F</td>\n",
       "      <td>28.0</td>\n",
       "      <td>Average</td>\n",
       "      <td>23</td>\n",
       "      <td>Tues.</td>\n",
       "    </tr>\n",
       "    <tr>\n",
       "      <th>955191</th>\n",
       "      <td>7.850000</td>\n",
       "      <td>2019-12-31 23:52:57.231</td>\n",
       "      <td>Subscriber</td>\n",
       "      <td>1988.0</td>\n",
       "      <td>F</td>\n",
       "      <td>31.0</td>\n",
       "      <td>Short</td>\n",
       "      <td>23</td>\n",
       "      <td>Tues.</td>\n",
       "    </tr>\n",
       "    <tr>\n",
       "      <th>955195</th>\n",
       "      <td>22.633333</td>\n",
       "      <td>2019-12-31 23:53:18.074</td>\n",
       "      <td>Subscriber</td>\n",
       "      <td>1961.0</td>\n",
       "      <td>M</td>\n",
       "      <td>58.0</td>\n",
       "      <td>Average</td>\n",
       "      <td>23</td>\n",
       "      <td>Tues.</td>\n",
       "    </tr>\n",
       "    <tr>\n",
       "      <th>955199</th>\n",
       "      <td>29.500000</td>\n",
       "      <td>2019-12-31 23:54:53.088</td>\n",
       "      <td>Customer</td>\n",
       "      <td>1977.0</td>\n",
       "      <td>M</td>\n",
       "      <td>42.0</td>\n",
       "      <td>Average</td>\n",
       "      <td>23</td>\n",
       "      <td>Tues.</td>\n",
       "    </tr>\n",
       "    <tr>\n",
       "      <th>955203</th>\n",
       "      <td>2034.983333</td>\n",
       "      <td>2019-12-31 23:55:30.726</td>\n",
       "      <td>Customer</td>\n",
       "      <td>1977.0</td>\n",
       "      <td>M</td>\n",
       "      <td>42.0</td>\n",
       "      <td>Very long</td>\n",
       "      <td>23</td>\n",
       "      <td>Tues.</td>\n",
       "    </tr>\n",
       "  </tbody>\n",
       "</table>\n",
       "<p>12570179 rows × 9 columns</p>\n",
       "</div>"
      ],
      "text/plain": [
       "        trip_duration              start_time   user_type  birth_year gender  \\\n",
       "0           11.333333 2017-01-01 00:00:21.000  Subscriber      1965.0      F   \n",
       "4           10.350000 2017-01-01 00:01:25.000    Customer         NaN    N/A   \n",
       "8            4.250000 2017-01-01 00:05:47.000  Subscriber      1989.0      M   \n",
       "12          33.416667 2017-01-01 00:05:57.000  Subscriber      1992.0      M   \n",
       "16          14.983333 2017-01-01 00:09:20.000  Subscriber      1970.0      M   \n",
       "...               ...                     ...         ...         ...    ...   \n",
       "955187      22.616667 2019-12-31 23:51:18.276  Subscriber      1991.0      F   \n",
       "955191       7.850000 2019-12-31 23:52:57.231  Subscriber      1988.0      F   \n",
       "955195      22.633333 2019-12-31 23:53:18.074  Subscriber      1961.0      M   \n",
       "955199      29.500000 2019-12-31 23:54:53.088    Customer      1977.0      M   \n",
       "955203    2034.983333 2019-12-31 23:55:30.726    Customer      1977.0      M   \n",
       "\n",
       "         age trip_duration_range_loc  hour_of_day day_of_week  \n",
       "0       52.0                   Short            0        Sun.  \n",
       "4        NaN                   Short            0        Sun.  \n",
       "8       28.0              Very short            0        Sun.  \n",
       "12      25.0                 Average            0        Sun.  \n",
       "16      47.0                   Short            0        Sun.  \n",
       "...      ...                     ...          ...         ...  \n",
       "955187  28.0                 Average           23       Tues.  \n",
       "955191  31.0                   Short           23       Tues.  \n",
       "955195  58.0                 Average           23       Tues.  \n",
       "955199  42.0                 Average           23       Tues.  \n",
       "955203  42.0               Very long           23       Tues.  \n",
       "\n",
       "[12570179 rows x 9 columns]"
      ]
     },
     "execution_count": 148,
     "metadata": {},
     "output_type": "execute_result"
    }
   ],
   "source": [
    "subset1"
   ]
  },
  {
   "cell_type": "code",
   "execution_count": 149,
   "id": "904c9599",
   "metadata": {},
   "outputs": [
    {
     "data": {
      "text/html": [
       "<div>\n",
       "<style scoped>\n",
       "    .dataframe tbody tr th:only-of-type {\n",
       "        vertical-align: middle;\n",
       "    }\n",
       "\n",
       "    .dataframe tbody tr th {\n",
       "        vertical-align: top;\n",
       "    }\n",
       "\n",
       "    .dataframe thead th {\n",
       "        text-align: right;\n",
       "    }\n",
       "</style>\n",
       "<table border=\"1\" class=\"dataframe\">\n",
       "  <thead>\n",
       "    <tr style=\"text-align: right;\">\n",
       "      <th></th>\n",
       "      <th>trip_duration</th>\n",
       "      <th>birth_year</th>\n",
       "      <th>age</th>\n",
       "      <th>hour_of_day</th>\n",
       "    </tr>\n",
       "  </thead>\n",
       "  <tbody>\n",
       "    <tr>\n",
       "      <th>trip_duration</th>\n",
       "      <td>1.000000</td>\n",
       "      <td>-0.000996</td>\n",
       "      <td>0.001261</td>\n",
       "      <td>0.005080</td>\n",
       "    </tr>\n",
       "    <tr>\n",
       "      <th>birth_year</th>\n",
       "      <td>-0.000996</td>\n",
       "      <td>1.000000</td>\n",
       "      <td>-0.997789</td>\n",
       "      <td>0.054786</td>\n",
       "    </tr>\n",
       "    <tr>\n",
       "      <th>age</th>\n",
       "      <td>0.001261</td>\n",
       "      <td>-0.997789</td>\n",
       "      <td>1.000000</td>\n",
       "      <td>-0.054719</td>\n",
       "    </tr>\n",
       "    <tr>\n",
       "      <th>hour_of_day</th>\n",
       "      <td>0.005080</td>\n",
       "      <td>0.054786</td>\n",
       "      <td>-0.054719</td>\n",
       "      <td>1.000000</td>\n",
       "    </tr>\n",
       "  </tbody>\n",
       "</table>\n",
       "</div>"
      ],
      "text/plain": [
       "               trip_duration  birth_year       age  hour_of_day\n",
       "trip_duration       1.000000   -0.000996  0.001261     0.005080\n",
       "birth_year         -0.000996    1.000000 -0.997789     0.054786\n",
       "age                 0.001261   -0.997789  1.000000    -0.054719\n",
       "hour_of_day         0.005080    0.054786 -0.054719     1.000000"
      ]
     },
     "execution_count": 149,
     "metadata": {},
     "output_type": "execute_result"
    }
   ],
   "source": [
    "# Create a correlation matrix\n",
    "\n",
    "subset1.corr()"
   ]
  },
  {
   "cell_type": "code",
   "execution_count": 151,
   "id": "e1057adb",
   "metadata": {},
   "outputs": [
    {
     "data": {
      "image/png": "[encoded data removed]",
      "text/plain": [
       "<Figure size 864x864 with 2 Axes>"
      ]
     },
     "metadata": {},
     "output_type": "display_data"
    }
   ],
   "source": [
    "# Create a subplot with matplotlib\n",
    "\n",
    "f,ax = plt.subplots(figsize=(12,12))\n",
    "\n",
    "# Create the correlation heatmap in seaborn\n",
    "\n",
    "corr = sns.heatmap(subset1.corr(), annot = True, ax = ax)"
   ]
  },
  {
   "cell_type": "markdown",
   "id": "529d23de",
   "metadata": {},
   "source": [
    "### Looking at the coefficients at the correlation heatmap, it appears that there is no particular relationship, positive or negative, between between the variables."
   ]
  },
  {
   "cell_type": "markdown",
   "id": "1951ee18",
   "metadata": {},
   "source": [
    "## Step 4. Create a scatterplot (or plots) for the variables with the strongest correlations"
   ]
  },
  {
   "cell_type": "code",
   "execution_count": 85,
   "id": "db121da1",
   "metadata": {},
   "outputs": [
    {
     "data": {
      "text/plain": [
       "<seaborn.axisgrid.FacetGrid at 0x7f7eda9f2d60>"
      ]
     },
     "execution_count": 85,
     "metadata": {},
     "output_type": "execute_result"
    },
    {
     "data": {
      "image/png": "[encoded data removed]",
      "text/plain": [
       "<Figure size 360x360 with 1 Axes>"
      ]
     },
     "metadata": {
      "needs_background": "light"
     },
     "output_type": "display_data"
    }
   ],
   "source": [
    "# Create a scatterplot for the \"trip_duration\" and \"age\" columns in seaborn\n",
    "\n",
    "sns.lmplot(x = 'trip_duration', y = 'age', data = df_sub)"
   ]
  },
  {
   "cell_type": "markdown",
   "id": "8034fbba",
   "metadata": {},
   "source": [
    "#### The scatterplot shows that as the age of the bike riders increases, the trip duration decreases. It also revealed that there are some data points that are not reasonable e.g., ages over 100. Further analysis will clarify why they appear and how best to handle them."
   ]
  },
  {
   "cell_type": "code",
   "execution_count": 105,
   "id": "73b234de",
   "metadata": {},
   "outputs": [
    {
     "name": "stderr",
     "output_type": "stream",
     "text": [
      "/var/folders/yl/zzz5svg15j310t2d1vvq8zqh0000gn/T/ipykernel_68189/3591676271.py:3: SettingWithCopyWarning: \n",
      "A value is trying to be set on a copy of a slice from a DataFrame\n",
      "\n",
      "See the caveats in the documentation: https://pandas.pydata.org/pandas-docs/stable/user_guide/indexing.html#returning-a-view-versus-a-copy\n",
      "  df_sub.drop(df_sub[df_sub.age > 80].index, inplace=True)\n"
     ]
    }
   ],
   "source": [
    "# Deleting rows where the age is over 80\n",
    "\n",
    "df_sub.drop(df_sub[df_sub.age > 80].index, inplace=True)"
   ]
  },
  {
   "cell_type": "code",
   "execution_count": 131,
   "id": "bfe0a4fc",
   "metadata": {},
   "outputs": [
    {
     "data": {
      "text/plain": [
       "(12570179, 21)"
      ]
     },
     "execution_count": 131,
     "metadata": {},
     "output_type": "execute_result"
    }
   ],
   "source": [
    "df_sub.shape"
   ]
  },
  {
   "cell_type": "code",
   "execution_count": 140,
   "id": "bc8a44a0",
   "metadata": {},
   "outputs": [],
   "source": [
    "# Save changes to dataframe\n",
    "\n",
    "df_sub = df_sub"
   ]
  },
  {
   "cell_type": "code",
   "execution_count": 141,
   "id": "6dd4945f",
   "metadata": {},
   "outputs": [],
   "source": [
    "# Export df_sub data and df_1701_1912 to pkl\n",
    "df_1701_1912.to_pickle(os.path.join(r'/Users/Dimitris/Desktop/CF Data Analytics/Data Immersion/Achievement 6/02 Data/Prepared Data/df_1701_1912.pkl'))\n",
    "df_sub.to_pickle(os.path.join(r'/Users/Dimitris/Desktop/CF Data Analytics/Data Immersion/Achievement 6/02 Data/Prepared Data/df_sub.pkl'))"
   ]
  },
  {
   "cell_type": "markdown",
   "id": "b321d26c",
   "metadata": {},
   "source": [
    "## Step 5. Create a pair plot of the entire data set"
   ]
  },
  {
   "cell_type": "code",
   "execution_count": 142,
   "id": "be4141ba",
   "metadata": {},
   "outputs": [
    {
     "ename": "KeyboardInterrupt",
     "evalue": "",
     "output_type": "error",
     "traceback": [
      "\u001b[0;31m---------------------------------------------------------------------------\u001b[0m",
      "\u001b[0;31mKeyboardInterrupt\u001b[0m                         Traceback (most recent call last)",
      "Input \u001b[0;32mIn [142]\u001b[0m, in \u001b[0;36m<cell line: 1>\u001b[0;34m()\u001b[0m\n\u001b[0;32m----> 1\u001b[0m g \u001b[38;5;241m=\u001b[39m \u001b[43msns\u001b[49m\u001b[38;5;241;43m.\u001b[39;49m\u001b[43mpairplot\u001b[49m\u001b[43m(\u001b[49m\u001b[43mdf_sub\u001b[49m\u001b[43m)\u001b[49m\n",
      "File \u001b[0;32m~/opt/anaconda3/lib/python3.9/site-packages/seaborn/_decorators.py:46\u001b[0m, in \u001b[0;36m_deprecate_positional_args.<locals>.inner_f\u001b[0;34m(*args, **kwargs)\u001b[0m\n\u001b[1;32m     36\u001b[0m     warnings\u001b[38;5;241m.\u001b[39mwarn(\n\u001b[1;32m     37\u001b[0m         \u001b[38;5;124m\"\u001b[39m\u001b[38;5;124mPass the following variable\u001b[39m\u001b[38;5;132;01m{}\u001b[39;00m\u001b[38;5;124m as \u001b[39m\u001b[38;5;132;01m{}\u001b[39;00m\u001b[38;5;124mkeyword arg\u001b[39m\u001b[38;5;132;01m{}\u001b[39;00m\u001b[38;5;124m: \u001b[39m\u001b[38;5;132;01m{}\u001b[39;00m\u001b[38;5;124m. \u001b[39m\u001b[38;5;124m\"\u001b[39m\n\u001b[1;32m     38\u001b[0m         \u001b[38;5;124m\"\u001b[39m\u001b[38;5;124mFrom version 0.12, the only valid positional argument \u001b[39m\u001b[38;5;124m\"\u001b[39m\n\u001b[0;32m   (...)\u001b[0m\n\u001b[1;32m     43\u001b[0m         \u001b[38;5;167;01mFutureWarning\u001b[39;00m\n\u001b[1;32m     44\u001b[0m     )\n\u001b[1;32m     45\u001b[0m kwargs\u001b[38;5;241m.\u001b[39mupdate({k: arg \u001b[38;5;28;01mfor\u001b[39;00m k, arg \u001b[38;5;129;01min\u001b[39;00m \u001b[38;5;28mzip\u001b[39m(sig\u001b[38;5;241m.\u001b[39mparameters, args)})\n\u001b[0;32m---> 46\u001b[0m \u001b[38;5;28;01mreturn\u001b[39;00m \u001b[43mf\u001b[49m\u001b[43m(\u001b[49m\u001b[38;5;241;43m*\u001b[39;49m\u001b[38;5;241;43m*\u001b[39;49m\u001b[43mkwargs\u001b[49m\u001b[43m)\u001b[49m\n",
      "File \u001b[0;32m~/opt/anaconda3/lib/python3.9/site-packages/seaborn/axisgrid.py:2126\u001b[0m, in \u001b[0;36mpairplot\u001b[0;34m(data, hue, hue_order, palette, vars, x_vars, y_vars, kind, diag_kind, markers, height, aspect, corner, dropna, plot_kws, diag_kws, grid_kws, size)\u001b[0m\n\u001b[1;32m   2124\u001b[0m diag_kws\u001b[38;5;241m.\u001b[39msetdefault(\u001b[38;5;124m\"\u001b[39m\u001b[38;5;124mlegend\u001b[39m\u001b[38;5;124m\"\u001b[39m, \u001b[38;5;28;01mFalse\u001b[39;00m)\n\u001b[1;32m   2125\u001b[0m \u001b[38;5;28;01mif\u001b[39;00m diag_kind \u001b[38;5;241m==\u001b[39m \u001b[38;5;124m\"\u001b[39m\u001b[38;5;124mhist\u001b[39m\u001b[38;5;124m\"\u001b[39m:\n\u001b[0;32m-> 2126\u001b[0m     \u001b[43mgrid\u001b[49m\u001b[38;5;241;43m.\u001b[39;49m\u001b[43mmap_diag\u001b[49m\u001b[43m(\u001b[49m\u001b[43mhistplot\u001b[49m\u001b[43m,\u001b[49m\u001b[43m \u001b[49m\u001b[38;5;241;43m*\u001b[39;49m\u001b[38;5;241;43m*\u001b[39;49m\u001b[43mdiag_kws\u001b[49m\u001b[43m)\u001b[49m\n\u001b[1;32m   2127\u001b[0m \u001b[38;5;28;01melif\u001b[39;00m diag_kind \u001b[38;5;241m==\u001b[39m \u001b[38;5;124m\"\u001b[39m\u001b[38;5;124mkde\u001b[39m\u001b[38;5;124m\"\u001b[39m:\n\u001b[1;32m   2128\u001b[0m     diag_kws\u001b[38;5;241m.\u001b[39msetdefault(\u001b[38;5;124m\"\u001b[39m\u001b[38;5;124mfill\u001b[39m\u001b[38;5;124m\"\u001b[39m, \u001b[38;5;28;01mTrue\u001b[39;00m)\n",
      "File \u001b[0;32m~/opt/anaconda3/lib/python3.9/site-packages/seaborn/axisgrid.py:1478\u001b[0m, in \u001b[0;36mPairGrid.map_diag\u001b[0;34m(self, func, **kwargs)\u001b[0m\n\u001b[1;32m   1476\u001b[0m     plot_kwargs\u001b[38;5;241m.\u001b[39msetdefault(\u001b[38;5;124m\"\u001b[39m\u001b[38;5;124mhue_order\u001b[39m\u001b[38;5;124m\"\u001b[39m, \u001b[38;5;28mself\u001b[39m\u001b[38;5;241m.\u001b[39m_hue_order)\n\u001b[1;32m   1477\u001b[0m     plot_kwargs\u001b[38;5;241m.\u001b[39msetdefault(\u001b[38;5;124m\"\u001b[39m\u001b[38;5;124mpalette\u001b[39m\u001b[38;5;124m\"\u001b[39m, \u001b[38;5;28mself\u001b[39m\u001b[38;5;241m.\u001b[39m_orig_palette)\n\u001b[0;32m-> 1478\u001b[0m     \u001b[43mfunc\u001b[49m\u001b[43m(\u001b[49m\u001b[43mx\u001b[49m\u001b[38;5;241;43m=\u001b[39;49m\u001b[43mvector\u001b[49m\u001b[43m,\u001b[49m\u001b[43m \u001b[49m\u001b[38;5;241;43m*\u001b[39;49m\u001b[38;5;241;43m*\u001b[39;49m\u001b[43mplot_kwargs\u001b[49m\u001b[43m)\u001b[49m\n\u001b[1;32m   1479\u001b[0m     ax\u001b[38;5;241m.\u001b[39mlegend_ \u001b[38;5;241m=\u001b[39m \u001b[38;5;28;01mNone\u001b[39;00m\n\u001b[1;32m   1481\u001b[0m \u001b[38;5;28mself\u001b[39m\u001b[38;5;241m.\u001b[39m_add_axis_labels()\n",
      "File \u001b[0;32m~/opt/anaconda3/lib/python3.9/site-packages/seaborn/distributions.py:1462\u001b[0m, in \u001b[0;36mhistplot\u001b[0;34m(data, x, y, hue, weights, stat, bins, binwidth, binrange, discrete, cumulative, common_bins, common_norm, multiple, element, fill, shrink, kde, kde_kws, line_kws, thresh, pthresh, pmax, cbar, cbar_ax, cbar_kws, palette, hue_order, hue_norm, color, log_scale, legend, ax, **kwargs)\u001b[0m\n\u001b[1;32m   1451\u001b[0m estimate_kws \u001b[38;5;241m=\u001b[39m \u001b[38;5;28mdict\u001b[39m(\n\u001b[1;32m   1452\u001b[0m     stat\u001b[38;5;241m=\u001b[39mstat,\n\u001b[1;32m   1453\u001b[0m     bins\u001b[38;5;241m=\u001b[39mbins,\n\u001b[0;32m   (...)\u001b[0m\n\u001b[1;32m   1457\u001b[0m     cumulative\u001b[38;5;241m=\u001b[39mcumulative,\n\u001b[1;32m   1458\u001b[0m )\n\u001b[1;32m   1460\u001b[0m \u001b[38;5;28;01mif\u001b[39;00m p\u001b[38;5;241m.\u001b[39munivariate:\n\u001b[0;32m-> 1462\u001b[0m     \u001b[43mp\u001b[49m\u001b[38;5;241;43m.\u001b[39;49m\u001b[43mplot_univariate_histogram\u001b[49m\u001b[43m(\u001b[49m\n\u001b[1;32m   1463\u001b[0m \u001b[43m        \u001b[49m\u001b[43mmultiple\u001b[49m\u001b[38;5;241;43m=\u001b[39;49m\u001b[43mmultiple\u001b[49m\u001b[43m,\u001b[49m\n\u001b[1;32m   1464\u001b[0m \u001b[43m        \u001b[49m\u001b[43melement\u001b[49m\u001b[38;5;241;43m=\u001b[39;49m\u001b[43melement\u001b[49m\u001b[43m,\u001b[49m\n\u001b[1;32m   1465\u001b[0m \u001b[43m        \u001b[49m\u001b[43mfill\u001b[49m\u001b[38;5;241;43m=\u001b[39;49m\u001b[43mfill\u001b[49m\u001b[43m,\u001b[49m\n\u001b[1;32m   1466\u001b[0m \u001b[43m        \u001b[49m\u001b[43mshrink\u001b[49m\u001b[38;5;241;43m=\u001b[39;49m\u001b[43mshrink\u001b[49m\u001b[43m,\u001b[49m\n\u001b[1;32m   1467\u001b[0m \u001b[43m        \u001b[49m\u001b[43mcommon_norm\u001b[49m\u001b[38;5;241;43m=\u001b[39;49m\u001b[43mcommon_norm\u001b[49m\u001b[43m,\u001b[49m\n\u001b[1;32m   1468\u001b[0m \u001b[43m        \u001b[49m\u001b[43mcommon_bins\u001b[49m\u001b[38;5;241;43m=\u001b[39;49m\u001b[43mcommon_bins\u001b[49m\u001b[43m,\u001b[49m\n\u001b[1;32m   1469\u001b[0m \u001b[43m        \u001b[49m\u001b[43mkde\u001b[49m\u001b[38;5;241;43m=\u001b[39;49m\u001b[43mkde\u001b[49m\u001b[43m,\u001b[49m\n\u001b[1;32m   1470\u001b[0m \u001b[43m        \u001b[49m\u001b[43mkde_kws\u001b[49m\u001b[38;5;241;43m=\u001b[39;49m\u001b[43mkde_kws\u001b[49m\u001b[43m,\u001b[49m\n\u001b[1;32m   1471\u001b[0m \u001b[43m        \u001b[49m\u001b[43mcolor\u001b[49m\u001b[38;5;241;43m=\u001b[39;49m\u001b[43mcolor\u001b[49m\u001b[43m,\u001b[49m\n\u001b[1;32m   1472\u001b[0m \u001b[43m        \u001b[49m\u001b[43mlegend\u001b[49m\u001b[38;5;241;43m=\u001b[39;49m\u001b[43mlegend\u001b[49m\u001b[43m,\u001b[49m\n\u001b[1;32m   1473\u001b[0m \u001b[43m        \u001b[49m\u001b[43mestimate_kws\u001b[49m\u001b[38;5;241;43m=\u001b[39;49m\u001b[43mestimate_kws\u001b[49m\u001b[43m,\u001b[49m\n\u001b[1;32m   1474\u001b[0m \u001b[43m        \u001b[49m\u001b[43mline_kws\u001b[49m\u001b[38;5;241;43m=\u001b[39;49m\u001b[43mline_kws\u001b[49m\u001b[43m,\u001b[49m\n\u001b[1;32m   1475\u001b[0m \u001b[43m        \u001b[49m\u001b[38;5;241;43m*\u001b[39;49m\u001b[38;5;241;43m*\u001b[39;49m\u001b[43mkwargs\u001b[49m\u001b[43m,\u001b[49m\n\u001b[1;32m   1476\u001b[0m \u001b[43m    \u001b[49m\u001b[43m)\u001b[49m\n\u001b[1;32m   1478\u001b[0m \u001b[38;5;28;01melse\u001b[39;00m:\n\u001b[1;32m   1480\u001b[0m     p\u001b[38;5;241m.\u001b[39mplot_bivariate_histogram(\n\u001b[1;32m   1481\u001b[0m         common_bins\u001b[38;5;241m=\u001b[39mcommon_bins,\n\u001b[1;32m   1482\u001b[0m         common_norm\u001b[38;5;241m=\u001b[39mcommon_norm,\n\u001b[0;32m   (...)\u001b[0m\n\u001b[1;32m   1492\u001b[0m         \u001b[38;5;241m*\u001b[39m\u001b[38;5;241m*\u001b[39mkwargs,\n\u001b[1;32m   1493\u001b[0m     )\n",
      "File \u001b[0;32m~/opt/anaconda3/lib/python3.9/site-packages/seaborn/distributions.py:428\u001b[0m, in \u001b[0;36m_DistributionPlotter.plot_univariate_histogram\u001b[0;34m(self, multiple, element, fill, common_norm, common_bins, shrink, kde, kde_kws, color, legend, line_kws, estimate_kws, **plot_kws)\u001b[0m\n\u001b[1;32m    418\u001b[0m     densities \u001b[38;5;241m=\u001b[39m \u001b[38;5;28mself\u001b[39m\u001b[38;5;241m.\u001b[39m_compute_univariate_density(\n\u001b[1;32m    419\u001b[0m         \u001b[38;5;28mself\u001b[39m\u001b[38;5;241m.\u001b[39mdata_variable,\n\u001b[1;32m    420\u001b[0m         common_norm,\n\u001b[0;32m   (...)\u001b[0m\n\u001b[1;32m    424\u001b[0m         warn_singular\u001b[38;5;241m=\u001b[39m\u001b[38;5;28;01mFalse\u001b[39;00m,\n\u001b[1;32m    425\u001b[0m     )\n\u001b[1;32m    427\u001b[0m \u001b[38;5;66;03m# First pass through the data to compute the histograms\u001b[39;00m\n\u001b[0;32m--> 428\u001b[0m \u001b[38;5;28;01mfor\u001b[39;00m sub_vars, sub_data \u001b[38;5;129;01min\u001b[39;00m \u001b[38;5;28mself\u001b[39m\u001b[38;5;241m.\u001b[39miter_data(\u001b[38;5;124m\"\u001b[39m\u001b[38;5;124mhue\u001b[39m\u001b[38;5;124m\"\u001b[39m, from_comp_data\u001b[38;5;241m=\u001b[39m\u001b[38;5;28;01mTrue\u001b[39;00m):\n\u001b[1;32m    429\u001b[0m \n\u001b[1;32m    430\u001b[0m     \u001b[38;5;66;03m# Prepare the relevant data\u001b[39;00m\n\u001b[1;32m    431\u001b[0m     key \u001b[38;5;241m=\u001b[39m \u001b[38;5;28mtuple\u001b[39m(sub_vars\u001b[38;5;241m.\u001b[39mitems())\n\u001b[1;32m    432\u001b[0m     sub_data \u001b[38;5;241m=\u001b[39m sub_data\u001b[38;5;241m.\u001b[39mdropna()\n",
      "File \u001b[0;32m~/opt/anaconda3/lib/python3.9/site-packages/seaborn/_core.py:983\u001b[0m, in \u001b[0;36mVectorPlotter.iter_data\u001b[0;34m(self, grouping_vars, reverse, from_comp_data)\u001b[0m\n\u001b[1;32m    978\u001b[0m grouping_vars \u001b[38;5;241m=\u001b[39m [\n\u001b[1;32m    979\u001b[0m     var \u001b[38;5;28;01mfor\u001b[39;00m var \u001b[38;5;129;01min\u001b[39;00m grouping_vars \u001b[38;5;28;01mif\u001b[39;00m var \u001b[38;5;129;01min\u001b[39;00m \u001b[38;5;28mself\u001b[39m\u001b[38;5;241m.\u001b[39mvariables\n\u001b[1;32m    980\u001b[0m ]\n\u001b[1;32m    982\u001b[0m \u001b[38;5;28;01mif\u001b[39;00m from_comp_data:\n\u001b[0;32m--> 983\u001b[0m     data \u001b[38;5;241m=\u001b[39m \u001b[38;5;28;43mself\u001b[39;49m\u001b[38;5;241;43m.\u001b[39;49m\u001b[43mcomp_data\u001b[49m\n\u001b[1;32m    984\u001b[0m \u001b[38;5;28;01melse\u001b[39;00m:\n\u001b[1;32m    985\u001b[0m     data \u001b[38;5;241m=\u001b[39m \u001b[38;5;28mself\u001b[39m\u001b[38;5;241m.\u001b[39mplot_data\n",
      "File \u001b[0;32m~/opt/anaconda3/lib/python3.9/site-packages/seaborn/_core.py:1057\u001b[0m, in \u001b[0;36mVectorPlotter.comp_data\u001b[0;34m(self)\u001b[0m\n\u001b[1;32m   1055\u001b[0m     orig \u001b[38;5;241m=\u001b[39m \u001b[38;5;28mself\u001b[39m\u001b[38;5;241m.\u001b[39mplot_data[var]\u001b[38;5;241m.\u001b[39mdropna()\n\u001b[1;32m   1056\u001b[0m comp_col \u001b[38;5;241m=\u001b[39m pd\u001b[38;5;241m.\u001b[39mSeries(index\u001b[38;5;241m=\u001b[39morig\u001b[38;5;241m.\u001b[39mindex, dtype\u001b[38;5;241m=\u001b[39m\u001b[38;5;28mfloat\u001b[39m, name\u001b[38;5;241m=\u001b[39mvar)\n\u001b[0;32m-> 1057\u001b[0m comp_col\u001b[38;5;241m.\u001b[39mloc[orig\u001b[38;5;241m.\u001b[39mindex] \u001b[38;5;241m=\u001b[39m pd\u001b[38;5;241m.\u001b[39mto_numeric(axis\u001b[38;5;241m.\u001b[39mconvert_units(orig))\n\u001b[1;32m   1059\u001b[0m \u001b[38;5;28;01mif\u001b[39;00m axis\u001b[38;5;241m.\u001b[39mget_scale() \u001b[38;5;241m==\u001b[39m \u001b[38;5;124m\"\u001b[39m\u001b[38;5;124mlog\u001b[39m\u001b[38;5;124m\"\u001b[39m:\n\u001b[1;32m   1060\u001b[0m     comp_col \u001b[38;5;241m=\u001b[39m np\u001b[38;5;241m.\u001b[39mlog10(comp_col)\n",
      "File \u001b[0;32m~/opt/anaconda3/lib/python3.9/site-packages/pandas/core/indexing.py:716\u001b[0m, in \u001b[0;36m_LocationIndexer.__setitem__\u001b[0;34m(self, key, value)\u001b[0m\n\u001b[1;32m    713\u001b[0m \u001b[38;5;28mself\u001b[39m\u001b[38;5;241m.\u001b[39m_has_valid_setitem_indexer(key)\n\u001b[1;32m    715\u001b[0m iloc \u001b[38;5;241m=\u001b[39m \u001b[38;5;28mself\u001b[39m \u001b[38;5;28;01mif\u001b[39;00m \u001b[38;5;28mself\u001b[39m\u001b[38;5;241m.\u001b[39mname \u001b[38;5;241m==\u001b[39m \u001b[38;5;124m\"\u001b[39m\u001b[38;5;124miloc\u001b[39m\u001b[38;5;124m\"\u001b[39m \u001b[38;5;28;01melse\u001b[39;00m \u001b[38;5;28mself\u001b[39m\u001b[38;5;241m.\u001b[39mobj\u001b[38;5;241m.\u001b[39miloc\n\u001b[0;32m--> 716\u001b[0m \u001b[43miloc\u001b[49m\u001b[38;5;241;43m.\u001b[39;49m\u001b[43m_setitem_with_indexer\u001b[49m\u001b[43m(\u001b[49m\u001b[43mindexer\u001b[49m\u001b[43m,\u001b[49m\u001b[43m \u001b[49m\u001b[43mvalue\u001b[49m\u001b[43m,\u001b[49m\u001b[43m \u001b[49m\u001b[38;5;28;43mself\u001b[39;49m\u001b[38;5;241;43m.\u001b[39;49m\u001b[43mname\u001b[49m\u001b[43m)\u001b[49m\n",
      "File \u001b[0;32m~/opt/anaconda3/lib/python3.9/site-packages/pandas/core/indexing.py:1690\u001b[0m, in \u001b[0;36m_iLocIndexer._setitem_with_indexer\u001b[0;34m(self, indexer, value, name)\u001b[0m\n\u001b[1;32m   1688\u001b[0m     \u001b[38;5;28mself\u001b[39m\u001b[38;5;241m.\u001b[39m_setitem_with_indexer_split_path(indexer, value, name)\n\u001b[1;32m   1689\u001b[0m \u001b[38;5;28;01melse\u001b[39;00m:\n\u001b[0;32m-> 1690\u001b[0m     \u001b[38;5;28;43mself\u001b[39;49m\u001b[38;5;241;43m.\u001b[39;49m\u001b[43m_setitem_single_block\u001b[49m\u001b[43m(\u001b[49m\u001b[43mindexer\u001b[49m\u001b[43m,\u001b[49m\u001b[43m \u001b[49m\u001b[43mvalue\u001b[49m\u001b[43m,\u001b[49m\u001b[43m \u001b[49m\u001b[43mname\u001b[49m\u001b[43m)\u001b[49m\n",
      "File \u001b[0;32m~/opt/anaconda3/lib/python3.9/site-packages/pandas/core/indexing.py:1929\u001b[0m, in \u001b[0;36m_iLocIndexer._setitem_single_block\u001b[0;34m(self, indexer, value, name)\u001b[0m\n\u001b[1;32m   1923\u001b[0m     indexer \u001b[38;5;241m=\u001b[39m maybe_convert_ix(\u001b[38;5;241m*\u001b[39mindexer)  \u001b[38;5;66;03m# e.g. test_setitem_frame_align\u001b[39;00m\n\u001b[1;32m   1925\u001b[0m \u001b[38;5;28;01mif\u001b[39;00m (\u001b[38;5;28misinstance\u001b[39m(value, ABCSeries) \u001b[38;5;129;01mand\u001b[39;00m name \u001b[38;5;241m!=\u001b[39m \u001b[38;5;124m\"\u001b[39m\u001b[38;5;124miloc\u001b[39m\u001b[38;5;124m\"\u001b[39m) \u001b[38;5;129;01mor\u001b[39;00m \u001b[38;5;28misinstance\u001b[39m(value, \u001b[38;5;28mdict\u001b[39m):\n\u001b[1;32m   1926\u001b[0m     \u001b[38;5;66;03m# TODO(EA): ExtensionBlock.setitem this causes issues with\u001b[39;00m\n\u001b[1;32m   1927\u001b[0m     \u001b[38;5;66;03m# setting for extensionarrays that store dicts. Need to decide\u001b[39;00m\n\u001b[1;32m   1928\u001b[0m     \u001b[38;5;66;03m# if it's worth supporting that.\u001b[39;00m\n\u001b[0;32m-> 1929\u001b[0m     value \u001b[38;5;241m=\u001b[39m \u001b[38;5;28;43mself\u001b[39;49m\u001b[38;5;241;43m.\u001b[39;49m\u001b[43m_align_series\u001b[49m\u001b[43m(\u001b[49m\u001b[43mindexer\u001b[49m\u001b[43m,\u001b[49m\u001b[43m \u001b[49m\u001b[43mSeries\u001b[49m\u001b[43m(\u001b[49m\u001b[43mvalue\u001b[49m\u001b[43m)\u001b[49m\u001b[43m)\u001b[49m\n\u001b[1;32m   1931\u001b[0m \u001b[38;5;28;01melif\u001b[39;00m \u001b[38;5;28misinstance\u001b[39m(value, ABCDataFrame) \u001b[38;5;129;01mand\u001b[39;00m name \u001b[38;5;241m!=\u001b[39m \u001b[38;5;124m\"\u001b[39m\u001b[38;5;124miloc\u001b[39m\u001b[38;5;124m\"\u001b[39m:\n\u001b[1;32m   1932\u001b[0m     value \u001b[38;5;241m=\u001b[39m \u001b[38;5;28mself\u001b[39m\u001b[38;5;241m.\u001b[39m_align_frame(indexer, value)\n",
      "File \u001b[0;32m~/opt/anaconda3/lib/python3.9/site-packages/pandas/core/indexing.py:2091\u001b[0m, in \u001b[0;36m_iLocIndexer._align_series\u001b[0;34m(self, indexer, ser, multiindex_indexer)\u001b[0m\n\u001b[1;32m   2089\u001b[0m \u001b[38;5;28;01mif\u001b[39;00m obj\u001b[38;5;241m.\u001b[39mndim \u001b[38;5;241m==\u001b[39m \u001b[38;5;241m2\u001b[39m \u001b[38;5;129;01mand\u001b[39;00m is_empty_indexer(indexer[\u001b[38;5;241m0\u001b[39m], ser\u001b[38;5;241m.\u001b[39m_values):\n\u001b[1;32m   2090\u001b[0m     \u001b[38;5;28;01mreturn\u001b[39;00m ser\u001b[38;5;241m.\u001b[39m_values\u001b[38;5;241m.\u001b[39mcopy()\n\u001b[0;32m-> 2091\u001b[0m ser \u001b[38;5;241m=\u001b[39m \u001b[43mser\u001b[49m\u001b[38;5;241;43m.\u001b[39;49m\u001b[43mreindex\u001b[49m\u001b[43m(\u001b[49m\u001b[43mobj\u001b[49m\u001b[38;5;241;43m.\u001b[39;49m\u001b[43maxes\u001b[49m\u001b[43m[\u001b[49m\u001b[38;5;241;43m0\u001b[39;49m\u001b[43m]\u001b[49m\u001b[43m[\u001b[49m\u001b[43mindexer\u001b[49m\u001b[43m[\u001b[49m\u001b[38;5;241;43m0\u001b[39;49m\u001b[43m]\u001b[49m\u001b[43m]\u001b[49m\u001b[43m,\u001b[49m\u001b[43m \u001b[49m\u001b[43mcopy\u001b[49m\u001b[38;5;241;43m=\u001b[39;49m\u001b[38;5;28;43;01mTrue\u001b[39;49;00m\u001b[43m)\u001b[49m\u001b[38;5;241m.\u001b[39m_values\n\u001b[1;32m   2093\u001b[0m \u001b[38;5;66;03m# single indexer\u001b[39;00m\n\u001b[1;32m   2094\u001b[0m \u001b[38;5;28;01mif\u001b[39;00m \u001b[38;5;28mlen\u001b[39m(indexer) \u001b[38;5;241m>\u001b[39m \u001b[38;5;241m1\u001b[39m \u001b[38;5;129;01mand\u001b[39;00m \u001b[38;5;129;01mnot\u001b[39;00m multiindex_indexer:\n",
      "File \u001b[0;32m~/opt/anaconda3/lib/python3.9/site-packages/pandas/core/series.py:4672\u001b[0m, in \u001b[0;36mSeries.reindex\u001b[0;34m(self, *args, **kwargs)\u001b[0m\n\u001b[1;32m   4668\u001b[0m         \u001b[38;5;28;01mraise\u001b[39;00m \u001b[38;5;167;01mTypeError\u001b[39;00m(\n\u001b[1;32m   4669\u001b[0m             \u001b[38;5;124m\"\u001b[39m\u001b[38;5;124m'\u001b[39m\u001b[38;5;124mindex\u001b[39m\u001b[38;5;124m'\u001b[39m\u001b[38;5;124m passed as both positional and keyword argument\u001b[39m\u001b[38;5;124m\"\u001b[39m\n\u001b[1;32m   4670\u001b[0m         )\n\u001b[1;32m   4671\u001b[0m     kwargs\u001b[38;5;241m.\u001b[39mupdate({\u001b[38;5;124m\"\u001b[39m\u001b[38;5;124mindex\u001b[39m\u001b[38;5;124m\"\u001b[39m: index})\n\u001b[0;32m-> 4672\u001b[0m \u001b[38;5;28;01mreturn\u001b[39;00m \u001b[38;5;28;43msuper\u001b[39;49m\u001b[43m(\u001b[49m\u001b[43m)\u001b[49m\u001b[38;5;241;43m.\u001b[39;49m\u001b[43mreindex\u001b[49m\u001b[43m(\u001b[49m\u001b[38;5;241;43m*\u001b[39;49m\u001b[38;5;241;43m*\u001b[39;49m\u001b[43mkwargs\u001b[49m\u001b[43m)\u001b[49m\n",
      "File \u001b[0;32m~/opt/anaconda3/lib/python3.9/site-packages/pandas/core/generic.py:4966\u001b[0m, in \u001b[0;36mNDFrame.reindex\u001b[0;34m(self, *args, **kwargs)\u001b[0m\n\u001b[1;32m   4963\u001b[0m     \u001b[38;5;28;01mreturn\u001b[39;00m \u001b[38;5;28mself\u001b[39m\u001b[38;5;241m.\u001b[39m_reindex_multi(axes, copy, fill_value)\n\u001b[1;32m   4965\u001b[0m \u001b[38;5;66;03m# perform the reindex on the axes\u001b[39;00m\n\u001b[0;32m-> 4966\u001b[0m \u001b[38;5;28;01mreturn\u001b[39;00m \u001b[38;5;28;43mself\u001b[39;49m\u001b[38;5;241;43m.\u001b[39;49m\u001b[43m_reindex_axes\u001b[49m\u001b[43m(\u001b[49m\n\u001b[1;32m   4967\u001b[0m \u001b[43m    \u001b[49m\u001b[43maxes\u001b[49m\u001b[43m,\u001b[49m\u001b[43m \u001b[49m\u001b[43mlevel\u001b[49m\u001b[43m,\u001b[49m\u001b[43m \u001b[49m\u001b[43mlimit\u001b[49m\u001b[43m,\u001b[49m\u001b[43m \u001b[49m\u001b[43mtolerance\u001b[49m\u001b[43m,\u001b[49m\u001b[43m \u001b[49m\u001b[43mmethod\u001b[49m\u001b[43m,\u001b[49m\u001b[43m \u001b[49m\u001b[43mfill_value\u001b[49m\u001b[43m,\u001b[49m\u001b[43m \u001b[49m\u001b[43mcopy\u001b[49m\n\u001b[1;32m   4968\u001b[0m \u001b[43m\u001b[49m\u001b[43m)\u001b[49m\u001b[38;5;241m.\u001b[39m__finalize__(\u001b[38;5;28mself\u001b[39m, method\u001b[38;5;241m=\u001b[39m\u001b[38;5;124m\"\u001b[39m\u001b[38;5;124mreindex\u001b[39m\u001b[38;5;124m\"\u001b[39m)\n",
      "File \u001b[0;32m~/opt/anaconda3/lib/python3.9/site-packages/pandas/core/generic.py:4981\u001b[0m, in \u001b[0;36mNDFrame._reindex_axes\u001b[0;34m(self, axes, level, limit, tolerance, method, fill_value, copy)\u001b[0m\n\u001b[1;32m   4978\u001b[0m     \u001b[38;5;28;01mcontinue\u001b[39;00m\n\u001b[1;32m   4980\u001b[0m ax \u001b[38;5;241m=\u001b[39m \u001b[38;5;28mself\u001b[39m\u001b[38;5;241m.\u001b[39m_get_axis(a)\n\u001b[0;32m-> 4981\u001b[0m new_index, indexer \u001b[38;5;241m=\u001b[39m \u001b[43max\u001b[49m\u001b[38;5;241;43m.\u001b[39;49m\u001b[43mreindex\u001b[49m\u001b[43m(\u001b[49m\n\u001b[1;32m   4982\u001b[0m \u001b[43m    \u001b[49m\u001b[43mlabels\u001b[49m\u001b[43m,\u001b[49m\u001b[43m \u001b[49m\u001b[43mlevel\u001b[49m\u001b[38;5;241;43m=\u001b[39;49m\u001b[43mlevel\u001b[49m\u001b[43m,\u001b[49m\u001b[43m \u001b[49m\u001b[43mlimit\u001b[49m\u001b[38;5;241;43m=\u001b[39;49m\u001b[43mlimit\u001b[49m\u001b[43m,\u001b[49m\u001b[43m \u001b[49m\u001b[43mtolerance\u001b[49m\u001b[38;5;241;43m=\u001b[39;49m\u001b[43mtolerance\u001b[49m\u001b[43m,\u001b[49m\u001b[43m \u001b[49m\u001b[43mmethod\u001b[49m\u001b[38;5;241;43m=\u001b[39;49m\u001b[43mmethod\u001b[49m\n\u001b[1;32m   4983\u001b[0m \u001b[43m\u001b[49m\u001b[43m)\u001b[49m\n\u001b[1;32m   4985\u001b[0m axis \u001b[38;5;241m=\u001b[39m \u001b[38;5;28mself\u001b[39m\u001b[38;5;241m.\u001b[39m_get_axis_number(a)\n\u001b[1;32m   4986\u001b[0m obj \u001b[38;5;241m=\u001b[39m obj\u001b[38;5;241m.\u001b[39m_reindex_with_indexers(\n\u001b[1;32m   4987\u001b[0m     {axis: [new_index, indexer]},\n\u001b[1;32m   4988\u001b[0m     fill_value\u001b[38;5;241m=\u001b[39mfill_value,\n\u001b[1;32m   4989\u001b[0m     copy\u001b[38;5;241m=\u001b[39mcopy,\n\u001b[1;32m   4990\u001b[0m     allow_dups\u001b[38;5;241m=\u001b[39m\u001b[38;5;28;01mFalse\u001b[39;00m,\n\u001b[1;32m   4991\u001b[0m )\n",
      "File \u001b[0;32m~/opt/anaconda3/lib/python3.9/site-packages/pandas/core/indexes/base.py:4212\u001b[0m, in \u001b[0;36mIndex.reindex\u001b[0;34m(self, target, method, level, limit, tolerance)\u001b[0m\n\u001b[1;32m   4207\u001b[0m     \u001b[38;5;28;01mif\u001b[39;00m method \u001b[38;5;129;01mis\u001b[39;00m \u001b[38;5;129;01mnot\u001b[39;00m \u001b[38;5;28;01mNone\u001b[39;00m \u001b[38;5;129;01mor\u001b[39;00m limit \u001b[38;5;129;01mis\u001b[39;00m \u001b[38;5;129;01mnot\u001b[39;00m \u001b[38;5;28;01mNone\u001b[39;00m:\n\u001b[1;32m   4208\u001b[0m         \u001b[38;5;28;01mraise\u001b[39;00m \u001b[38;5;167;01mValueError\u001b[39;00m(\n\u001b[1;32m   4209\u001b[0m             \u001b[38;5;124m\"\u001b[39m\u001b[38;5;124mcannot reindex a non-unique index \u001b[39m\u001b[38;5;124m\"\u001b[39m\n\u001b[1;32m   4210\u001b[0m             \u001b[38;5;124m\"\u001b[39m\u001b[38;5;124mwith a method or limit\u001b[39m\u001b[38;5;124m\"\u001b[39m\n\u001b[1;32m   4211\u001b[0m         )\n\u001b[0;32m-> 4212\u001b[0m     indexer, _ \u001b[38;5;241m=\u001b[39m \u001b[38;5;28;43mself\u001b[39;49m\u001b[38;5;241;43m.\u001b[39;49m\u001b[43mget_indexer_non_unique\u001b[49m\u001b[43m(\u001b[49m\u001b[43mtarget\u001b[49m\u001b[43m)\u001b[49m\n\u001b[1;32m   4214\u001b[0m \u001b[38;5;28;01mif\u001b[39;00m \u001b[38;5;129;01mnot\u001b[39;00m \u001b[38;5;28mself\u001b[39m\u001b[38;5;241m.\u001b[39mis_unique:\n\u001b[1;32m   4215\u001b[0m     \u001b[38;5;66;03m# GH#42568\u001b[39;00m\n\u001b[1;32m   4216\u001b[0m     warnings\u001b[38;5;241m.\u001b[39mwarn(\n\u001b[1;32m   4217\u001b[0m         \u001b[38;5;124m\"\u001b[39m\u001b[38;5;124mreindexing with a non-unique Index is deprecated and \u001b[39m\u001b[38;5;124m\"\u001b[39m\n\u001b[1;32m   4218\u001b[0m         \u001b[38;5;124m\"\u001b[39m\u001b[38;5;124mwill raise in a future version.\u001b[39m\u001b[38;5;124m\"\u001b[39m,\n\u001b[1;32m   4219\u001b[0m         \u001b[38;5;167;01mFutureWarning\u001b[39;00m,\n\u001b[1;32m   4220\u001b[0m         stacklevel\u001b[38;5;241m=\u001b[39mfind_stack_level(),\n\u001b[1;32m   4221\u001b[0m     )\n",
      "File \u001b[0;32m~/opt/anaconda3/lib/python3.9/site-packages/pandas/core/indexes/base.py:5741\u001b[0m, in \u001b[0;36mIndex.get_indexer_non_unique\u001b[0;34m(self, target)\u001b[0m\n\u001b[1;32m   5736\u001b[0m     \u001b[38;5;66;03m# error: \"IndexEngine\" has no attribute \"_extract_level_codes\"\u001b[39;00m\n\u001b[1;32m   5737\u001b[0m     tgt_values \u001b[38;5;241m=\u001b[39m engine\u001b[38;5;241m.\u001b[39m_extract_level_codes(  \u001b[38;5;66;03m# type: ignore[attr-defined]\u001b[39;00m\n\u001b[1;32m   5738\u001b[0m         target\n\u001b[1;32m   5739\u001b[0m     )\n\u001b[0;32m-> 5741\u001b[0m indexer, missing \u001b[38;5;241m=\u001b[39m \u001b[38;5;28;43mself\u001b[39;49m\u001b[38;5;241;43m.\u001b[39;49m\u001b[43m_engine\u001b[49m\u001b[38;5;241;43m.\u001b[39;49m\u001b[43mget_indexer_non_unique\u001b[49m\u001b[43m(\u001b[49m\u001b[43mtgt_values\u001b[49m\u001b[43m)\u001b[49m\n\u001b[1;32m   5742\u001b[0m \u001b[38;5;28;01mreturn\u001b[39;00m ensure_platform_int(indexer), ensure_platform_int(missing)\n",
      "File \u001b[0;32m~/opt/anaconda3/lib/python3.9/site-packages/pandas/_libs/index.pyx:424\u001b[0m, in \u001b[0;36mpandas._libs.index.IndexEngine.get_indexer_non_unique\u001b[0;34m()\u001b[0m\n",
      "File \u001b[0;32m<__array_function__ internals>:5\u001b[0m, in \u001b[0;36mresize\u001b[0;34m(*args, **kwargs)\u001b[0m\n",
      "File \u001b[0;32m~/opt/anaconda3/lib/python3.9/site-packages/numpy/core/fromnumeric.py:1432\u001b[0m, in \u001b[0;36mresize\u001b[0;34m(a, new_shape)\u001b[0m\n\u001b[1;32m   1429\u001b[0m     \u001b[38;5;28;01mreturn\u001b[39;00m np\u001b[38;5;241m.\u001b[39mzeros_like(a, shape\u001b[38;5;241m=\u001b[39mnew_shape)\n\u001b[1;32m   1431\u001b[0m repeats \u001b[38;5;241m=\u001b[39m \u001b[38;5;241m-\u001b[39m(\u001b[38;5;241m-\u001b[39mnew_size \u001b[38;5;241m/\u001b[39m\u001b[38;5;241m/\u001b[39m a\u001b[38;5;241m.\u001b[39msize)  \u001b[38;5;66;03m# ceil division\u001b[39;00m\n\u001b[0;32m-> 1432\u001b[0m a \u001b[38;5;241m=\u001b[39m \u001b[43mconcatenate\u001b[49m\u001b[43m(\u001b[49m\u001b[43m(\u001b[49m\u001b[43ma\u001b[49m\u001b[43m,\u001b[49m\u001b[43m)\u001b[49m\u001b[43m \u001b[49m\u001b[38;5;241;43m*\u001b[39;49m\u001b[43m \u001b[49m\u001b[43mrepeats\u001b[49m\u001b[43m)\u001b[49m[:new_size]\n\u001b[1;32m   1434\u001b[0m \u001b[38;5;28;01mreturn\u001b[39;00m reshape(a, new_shape)\n",
      "File \u001b[0;32m<__array_function__ internals>:5\u001b[0m, in \u001b[0;36mconcatenate\u001b[0;34m(*args, **kwargs)\u001b[0m\n",
      "\u001b[0;31mKeyboardInterrupt\u001b[0m: "
     ]
    },
    {
     "data": {
      "image/png": "[encoded data removed]",
      "text/plain": [
       "<Figure size 1980x1980 with 132 Axes>"
      ]
     },
     "metadata": {},
     "output_type": "display_data"
    }
   ],
   "source": [
    "g = sns.pairplot(df_sub)"
   ]
  },
  {
   "cell_type": "markdown",
   "id": "9568c0ba",
   "metadata": {},
   "source": [
    "## Steps 6 & 7. Create a categorical plot, interpret the results and further analysis"
   ]
  },
  {
   "cell_type": "code",
   "execution_count": 110,
   "id": "4ce26228",
   "metadata": {},
   "outputs": [
    {
     "data": {
      "text/plain": [
       "<AxesSubplot:xlabel='age', ylabel='Count'>"
      ]
     },
     "execution_count": 110,
     "metadata": {},
     "output_type": "execute_result"
    },
    {
     "data": {
      "image/png": "[encoded data removed]",
      "text/plain": [
       "<Figure size 432x288 with 1 Axes>"
      ]
     },
     "metadata": {
      "needs_background": "light"
     },
     "output_type": "display_data"
    }
   ],
   "source": [
    "# Create a categorical variable that splits the \"age\" column into categories\n",
    "\n",
    "sns.histplot(df_sub['age'], bins = 10, kde = True)"
   ]
  },
  {
   "cell_type": "code",
   "execution_count": 137,
   "id": "9a3fd762",
   "metadata": {},
   "outputs": [
    {
     "data": {
      "text/plain": [
       "<AxesSubplot:xlabel='hour_of_day', ylabel='Count'>"
      ]
     },
     "execution_count": 137,
     "metadata": {},
     "output_type": "execute_result"
    },
    {
     "data": {
      "image/png": "[encoded data removed]",
      "text/plain": [
       "<Figure size 432x288 with 1 Axes>"
      ]
     },
     "metadata": {},
     "output_type": "display_data"
    }
   ],
   "source": [
    "# Create a histogram the \"time_of_day\" column\n",
    "\n",
    "sns.histplot(df_sub['hour_of_day'], bins = 24, kde = True)"
   ]
  },
  {
   "cell_type": "code",
   "execution_count": 138,
   "id": "1ce1ff08",
   "metadata": {},
   "outputs": [
    {
     "data": {
      "text/plain": [
       "<AxesSubplot:xlabel='day_of_week', ylabel='Count'>"
      ]
     },
     "execution_count": 138,
     "metadata": {},
     "output_type": "execute_result"
    },
    {
     "data": {
      "image/png": "[encoded data removed]",
      "text/plain": [
       "<Figure size 432x288 with 1 Axes>"
      ]
     },
     "metadata": {},
     "output_type": "display_data"
    }
   ],
   "source": [
    "# Create a histogram the \"day_of_week\" column\n",
    "\n",
    "sns.histplot(df_sub['day_of_week'], bins = 7, kde = True)"
   ]
  },
  {
   "cell_type": "code",
   "execution_count": 132,
   "id": "37a0b5cd",
   "metadata": {},
   "outputs": [
    {
     "data": {
      "image/png": "[encoded data removed]",
      "text/plain": [
       "<Figure size 417.975x360 with 1 Axes>"
      ]
     },
     "metadata": {},
     "output_type": "display_data"
    }
   ],
   "source": [
    "# Create a categorical plot in seaborn using the categories created previously\n",
    "\n",
    "sns.set(style=\"ticks\")\n",
    "g = sns.catplot(x=\"hour_of_day\", y=\"trip_duration_range_loc\", hue=\"gender\", data=df_sub)"
   ]
  },
  {
   "cell_type": "markdown",
   "id": "3449d2f8",
   "metadata": {},
   "source": [
    "## Analysis\n",
    "\n",
    "#### Due to the size of the sample (>12,000,000 rows), it is not easy to interpret the results using a scatterplot. What is evident is that most riders are male, female riders take longer rides more than average ones and there is a higher proportion of missing gender data on long and very long rides.\n",
    "\n",
    "#### The majority of the riders are between the ages of 22-42.\n",
    "\n",
    "#### The busiest times are at 08:00 am and between the 17:00 -18:00 pm. This coincides with the usual transit hours of most workers.\n",
    "\n",
    "#### All days of the week have high ridership numbers (>14,500,000 rides). The days with the highest ridership are Tuesday, Wednesday and Thursday. The least busy day is Sunday.\n",
    "\n",
    "#### The most 5 popular start stations are:\n",
    "#### 1. Pershing Square North\n",
    "#### 2. E 17 St & Broadway\n",
    "#### 3. Broadway & E 22 St\n",
    "#### 4. W 21 St & 6 Ave\n",
    "#### 5. West St & Chambers St\n",
    "\n",
    "#### The most 5 popular end stations are:\n",
    "#### 1. Pershing Square North\n",
    "#### 2. E 17 St & Broadway\n",
    "#### 3. Broadway & E 22 St\n",
    "#### 4. W 21 St & 6 Ave\n",
    "#### 5. West St & Chambers St\n",
    "\n",
    "#### The start and end stations are identical, which means that these areas are very popular and the demand for bikes is high.\n",
    "\n",
    "### It is important to note again that is a sample. Therefore, any conclusions derived from this analysis might not be 100% accurate.\n"
   ]
  },
  {
   "cell_type": "markdown",
   "id": "6f3ffd23",
   "metadata": {},
   "source": [
    "## Step 8. Define any hypotheses that you can at this point\n",
    "\n",
    "#### Hypothesis: Younger riders will rent a bike more often than older riders and will travel longer distances."
   ]
  },
  {
   "cell_type": "code",
   "execution_count": null,
   "id": "4aec60d3",
   "metadata": {},
   "outputs": [],
   "source": []
  },
  {
   "cell_type": "code",
   "execution_count": null,
   "id": "5e99abce",
   "metadata": {},
   "outputs": [],
   "source": []
  },
  {
   "cell_type": "code",
   "execution_count": null,
   "id": "2704d163",
   "metadata": {},
   "outputs": [],
   "source": []
  },
  {
   "cell_type": "code",
   "execution_count": null,
   "id": "8600c030",
   "metadata": {},
   "outputs": [],
   "source": []
  },
  {
   "cell_type": "code",
   "execution_count": null,
   "id": "b6738aa1",
   "metadata": {},
   "outputs": [],
   "source": []
  },
  {
   "cell_type": "code",
   "execution_count": null,
   "id": "f469fb68",
   "metadata": {},
   "outputs": [],
   "source": []
  },
  {
   "cell_type": "code",
   "execution_count": null,
   "id": "bd666cc9",
   "metadata": {},
   "outputs": [],
   "source": []
  },
  {
   "cell_type": "code",
   "execution_count": null,
   "id": "9f766e73",
   "metadata": {},
   "outputs": [],
   "source": []
  },
  {
   "cell_type": "code",
   "execution_count": null,
   "id": "754c1b18",
   "metadata": {},
   "outputs": [],
   "source": []
  },
  {
   "cell_type": "code",
   "execution_count": null,
   "id": "ab6cc98f",
   "metadata": {},
   "outputs": [],
   "source": []
  },
  {
   "cell_type": "code",
   "execution_count": null,
   "id": "caed5da0",
   "metadata": {},
   "outputs": [],
   "source": []
  },
  {
   "cell_type": "code",
   "execution_count": null,
   "id": "4b1c38da",
   "metadata": {},
   "outputs": [],
   "source": []
  },
  {
   "cell_type": "code",
   "execution_count": null,
   "id": "7c4a6965",
   "metadata": {},
   "outputs": [],
   "source": []
  },
  {
   "cell_type": "code",
   "execution_count": null,
   "id": "2680ff94",
   "metadata": {},
   "outputs": [],
   "source": []
  },
  {
   "cell_type": "code",
   "execution_count": null,
   "id": "c05d789b",
   "metadata": {},
   "outputs": [],
   "source": []
  },
  {
   "cell_type": "code",
   "execution_count": null,
   "id": "ca37110c",
   "metadata": {},
   "outputs": [],
   "source": []
  },
  {
   "cell_type": "code",
   "execution_count": null,
   "id": "08762a7d",
   "metadata": {},
   "outputs": [],
   "source": []
  },
  {
   "cell_type": "code",
   "execution_count": null,
   "id": "cfc98853",
   "metadata": {},
   "outputs": [],
   "source": []
  }
 ],
 "metadata": {
  "kernelspec": {
   "display_name": "Python 3 (ipykernel)",
   "language": "python",
   "name": "python3"
  },
  "language_info": {
   "codemirror_mode": {
    "name": "ipython",
    "version": 3
   },
   "file_extension": ".py",
   "mimetype": "text/x-python",
   "name": "python",
   "nbconvert_exporter": "python",
   "pygments_lexer": "ipython3",
   "version": "3.9.12"
  }
 },
 "nbformat": 4,
 "nbformat_minor": 5
}
